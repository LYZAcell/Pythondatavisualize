{
 "cells": [
  {
   "cell_type": "markdown",
   "metadata": {},
   "source": [
    "### 문자열 포매팅/정리하기\n",
    "\n",
    "문자열 포매팅: 문자열에서 변수(변하는 값)을 표시하게 하는 것\n",
    "- f \"문자열{변수}\" _3.6 이상\n",
    "- \"문자열 {}\".format(변수)_3.5이하"
   ]
  },
  {
   "cell_type": "code",
   "execution_count": 2,
   "metadata": {},
   "outputs": [
    {
     "name": "stdout",
     "output_type": "stream",
     "text": [
      "안녕하세요 홍길동님 반갑습니다.\n"
     ]
    }
   ],
   "source": [
    "sentence = \"안녕하세요 홍길동님 반갑습니다.\"\n",
    "print(sentence)"
   ]
  },
  {
   "cell_type": "code",
   "execution_count": 4,
   "metadata": {},
   "outputs": [
    {
     "name": "stdin",
     "output_type": "stream",
     "text": [
      "이름을 입력해주세요 이가영\n"
     ]
    },
    {
     "name": "stdout",
     "output_type": "stream",
     "text": [
      "안녕하세요 이가영님 만나서 반갑습니다\n"
     ]
    }
   ],
   "source": [
    "# 포매팅을 활용하여 이름을 바꿔주기\n",
    "name = input(\"이름을 입력해주세요\")\n",
    "\n",
    "# \"안녕하세요 000님 만나서 반갑습니다\"\n",
    "# 3.5버전 활용\n",
    "sentence =  \"안녕하세요 {}님 만나서 반갑습니다\" . format(name)\n",
    "print(sentence)"
   ]
  },
  {
   "cell_type": "code",
   "execution_count": 7,
   "metadata": {},
   "outputs": [
    {
     "name": "stdin",
     "output_type": "stream",
     "text": [
      "이름을 입력해주세요 이가영\n"
     ]
    },
    {
     "name": "stdout",
     "output_type": "stream",
     "text": [
      "안녕하세요 이가영님 만나서 반갑습니다\n"
     ]
    }
   ],
   "source": [
    "# 3.6활용\n",
    "name = input(\"이름을 입력해주세요\")\n",
    "sentence = f\"안녕하세요 {name}님 만나서 반갑습니다\"\n",
    "print(sentence)"
   ]
  },
  {
   "cell_type": "code",
   "execution_count": 8,
   "metadata": {},
   "outputs": [
    {
     "name": "stdout",
     "output_type": "stream",
     "text": [
      "오늘은 12월 25일 입니다.\n"
     ]
    }
   ],
   "source": [
    "#여러개의 변수를 포매팅해주기\n",
    "month = \"12월\"\n",
    "day = \"25일\"\n",
    "\n",
    "#오늘은 00월 00일입니다.\n",
    "sentence = \"오늘은 {} {} 입니다.\".format(month, day)\n",
    "print(sentence)"
   ]
  },
  {
   "cell_type": "code",
   "execution_count": 9,
   "metadata": {},
   "outputs": [
    {
     "name": "stdout",
     "output_type": "stream",
     "text": [
      "오늘은 12월 25일 입니다.\n"
     ]
    }
   ],
   "source": [
    "#3.6버전 이상\n",
    "sentence = f\"오늘은 {month} {day} 입니다.\"\n",
    "print(sentence)"
   ]
  },
  {
   "cell_type": "markdown",
   "metadata": {},
   "source": [
    "### 문자열 데이터 정리 처리기호\n",
    "- .strip(): 공백문자 제외\n",
    "- .replace(변경전, 변경후): 삭제 및 대체\n",
    "- .split(): 특정 기호를 기준으로 데이터를 분할. 결과는 리스트"
   ]
  },
  {
   "cell_type": "code",
   "execution_count": 11,
   "metadata": {},
   "outputs": [
    {
     "name": "stdout",
     "output_type": "stream",
     "text": [
      "\n",
      "\t 태극기가 바람에 펄럭입니다. \n",
      " 하늘 높이 하늘 높이 펄럭입니다.\n"
     ]
    }
   ],
   "source": [
    "#들여쓰기, 줄바꿈확인 가능\n",
    "#\\n: 엔터(줄바꿈)\n",
    "#\\t: 들여쓰기\n",
    "\n",
    "raw = '\\n\\t 태극기가 바람에 펄럭입니다. \\n 하늘 높이 하늘 높이 펄럭입니다.'\n",
    "print(raw)\n"
   ]
  },
  {
   "cell_type": "code",
   "execution_count": 12,
   "metadata": {},
   "outputs": [
    {
     "name": "stdout",
     "output_type": "stream",
     "text": [
      "태극기가 바람에 펄럭입니다. \n",
      " 하늘 높이 하늘 높이 펄럭입니다.\n"
     ]
    }
   ],
   "source": [
    "raw_strip = raw.strip()\n",
    "#띄어쓰기, 줄바꿈 제거. 들여쓰기는 그대로\n",
    "print(raw_strip)"
   ]
  },
  {
   "cell_type": "code",
   "execution_count": 15,
   "metadata": {},
   "outputs": [
    {
     "name": "stdout",
     "output_type": "stream",
     "text": [
      "태극기가 바람에 팔랑입니다. \n",
      " 하늘 높이 하늘 높이 팔랑입니다.\n"
     ]
    }
   ],
   "source": [
    "# str.replace(a,b)명령을 통해 a를 b로 변경\n",
    "raw_edit = raw_strip.replace(\"펄럭\",\"팔랑\")\n",
    "print(raw_edit)"
   ]
  },
  {
   "cell_type": "code",
   "execution_count": 16,
   "metadata": {},
   "outputs": [
    {
     "data": {
      "text/plain": [
       "['미국', '중국', '일본', '러시아', '베트남', '태국']"
      ]
     },
     "execution_count": 16,
     "metadata": {},
     "output_type": "execute_result"
    }
   ],
   "source": [
    "# split함수. 결과는 리스트타입\n",
    "data = \"미국/중국/일본/러시아/베트남/태국\"\n",
    "#국가 이름 리스트. 원소 활용성\n",
    "data.split(\"/\")"
   ]
  },
  {
   "cell_type": "code",
   "execution_count": null,
   "metadata": {},
   "outputs": [],
   "source": []
  }
 ],
 "metadata": {
  "kernelspec": {
   "display_name": "Python 3",
   "language": "python",
   "name": "python3"
  },
  "language_info": {
   "codemirror_mode": {
    "name": "ipython",
    "version": 3
   },
   "file_extension": ".py",
   "mimetype": "text/x-python",
   "name": "python",
   "nbconvert_exporter": "python",
   "pygments_lexer": "ipython3",
   "version": "3.7.6"
  }
 },
 "nbformat": 4,
 "nbformat_minor": 4
}
