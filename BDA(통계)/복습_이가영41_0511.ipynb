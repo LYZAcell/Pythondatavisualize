{
 "cells": [
  {
   "cell_type": "markdown",
   "metadata": {},
   "source": [
    "# 7차시 _ 데이터 분석값 배우기\n",
    "### 산포도"
   ]
  },
  {
   "cell_type": "code",
   "execution_count": 24,
   "metadata": {},
   "outputs": [],
   "source": [
    "import pandas as pd\n",
    "import numpy as np\n",
    "import seaborn as sns\n",
    "import matplotlib.pyplot as plt\n",
    "from seaborn import load_dataset\n",
    "\n",
    "# 타이타닉 데이터셋 로드\n",
    "titanic = load_dataset('titanic')\n",
    "\n",
    "\n",
    "# 결측치 처리\n",
    "titanic['age'].fillna(titanic['age'].median(), inplace=True)\n",
    "titanic['fare'].fillna(titanic['fare'].median(), inplace=True)"
   ]
  },
  {
   "cell_type": "code",
   "execution_count": 25,
   "metadata": {},
   "outputs": [
    {
     "data": {
      "text/plain": [
       "male      577\n",
       "female    314\n",
       "Name: sex, dtype: int64"
      ]
     },
     "execution_count": 25,
     "metadata": {},
     "output_type": "execute_result"
    }
   ],
   "source": [
    "# 성별은 딱 정리되어나오지만\n",
    "titanic['sex'].value_counts()"
   ]
  },
  {
   "cell_type": "code",
   "execution_count": 26,
   "metadata": {},
   "outputs": [
    {
     "data": {
      "text/plain": [
       "28.00    202\n",
       "24.00     30\n",
       "22.00     27\n",
       "18.00     26\n",
       "19.00     25\n",
       "        ... \n",
       "55.50      1\n",
       "70.50      1\n",
       "66.00      1\n",
       "23.50      1\n",
       "0.42       1\n",
       "Name: age, Length: 88, dtype: int64"
      ]
     },
     "execution_count": 26,
     "metadata": {},
     "output_type": "execute_result"
    }
   ],
   "source": [
    "#AGE는 연속형이라 비효율적으로 나온다. ->히스토그램으로 그려줘야한다.\n",
    "titanic['age'].value_counts()"
   ]
  },
  {
   "cell_type": "code",
   "execution_count": 27,
   "metadata": {},
   "outputs": [],
   "source": [
    "age_freq = titanic['age'].value_counts().sort_index()\n",
    "age_freq = titanic['fare'].value_counts().sort_index()"
   ]
  },
  {
   "cell_type": "code",
   "execution_count": 28,
   "metadata": {},
   "outputs": [],
   "source": [
    "#numpy 히스토그램 패키지 활용 -> 나이 범위를 10개로 쪼갬 (0.42, 8.378....80~)\n",
    "age_hist, age_bins = np.histogram(titanic['age'], bins = 10)"
   ]
  },
  {
   "cell_type": "code",
   "execution_count": 29,
   "metadata": {},
   "outputs": [
    {
     "data": {
      "text/plain": [
       "array([ 54,  46, 177, 346, 118,  70,  45,  24,   9,   2], dtype=int64)"
      ]
     },
     "execution_count": 29,
     "metadata": {},
     "output_type": "execute_result"
    }
   ],
   "source": [
    "age_hist"
   ]
  },
  {
   "cell_type": "code",
   "execution_count": 30,
   "metadata": {},
   "outputs": [
    {
     "data": {
      "text/plain": [
       "array([ 0.42 ,  8.378, 16.336, 24.294, 32.252, 40.21 , 48.168, 56.126,\n",
       "       64.084, 72.042, 80.   ])"
      ]
     },
     "execution_count": 30,
     "metadata": {},
     "output_type": "execute_result"
    }
   ],
   "source": [
    "age_bins"
   ]
  },
  {
   "cell_type": "code",
   "execution_count": 34,
   "metadata": {},
   "outputs": [
    {
     "name": "stdout",
     "output_type": "stream",
     "text": [
      "Age Histogram Bins [ 0.42   8.378 16.336 24.294 32.252 40.21  48.168 56.126 64.084 72.042\n",
      " 80.   ]\n",
      "Age Histogram Counts [ 54  46 177 346 118  70  45  24   9   2]\n"
     ]
    },
    {
     "data": {
      "text/plain": [
       "<Figure size 1008x576 with 0 Axes>"
      ]
     },
     "execution_count": 34,
     "metadata": {},
     "output_type": "execute_result"
    },
    {
     "data": {
      "text/plain": [
       "<Figure size 1008x576 with 0 Axes>"
      ]
     },
     "metadata": {},
     "output_type": "display_data"
    }
   ],
   "source": [
    "# 히스토그램의 각 bins, hist를 볼 수 있다\n",
    "print('Age Histogram Bins', age_bins)\n",
    "print('Age Histogram Counts', age_hist)\n",
    "\n",
    "plt.figure(figsize = (14,8))"
   ]
  },
  {
   "cell_type": "code",
   "execution_count": 37,
   "metadata": {},
   "outputs": [
    {
     "name": "stdout",
     "output_type": "stream",
     "text": [
      "fare Histogram Bins [  0.       51.23292 102.46584 153.69876 204.93168 256.1646  307.39752\n",
      " 358.63044 409.86336 461.09628 512.3292 ]\n",
      "fare Histogram Counts [732 106  31   2  11   6   0   0   0   3]\n"
     ]
    },
    {
     "data": {
      "text/plain": [
       "<BarContainer object of 10 artists>"
      ]
     },
     "execution_count": 37,
     "metadata": {},
     "output_type": "execute_result"
    },
    {
     "data": {
      "image/png": "[encoded data removed]",
      "text/plain": [
       "<Figure size 864x360 with 2 Axes>"
      ]
     },
     "metadata": {
      "needs_background": "light"
     },
     "output_type": "display_data"
    }
   ],
   "source": [
    "#fare도 추가해서 그리심. bin 값이 732,106에 쏠림 -> 비싼표가 많았다. 왼쪽으로 쏠렸다. \n",
    "\n",
    "\n",
    "\n",
    "# 표 두개 시각화 -> 정규분포를 어캐 가져갈건지 잘 생각해야함\n",
    "# 전처리 과정에서 fare 공식을 바꿀 수도 있다. \n",
    "#Age에 대한 도수분포표랑 히스토그램 생성\n",
    "#numpy 에서 제공하는 histogram\n",
    "age_hist, age_bins =np.histogram(titanic['age'], bins=10)\n",
    "\n",
    "fare_hist, fare_bins =np.histogram(titanic['fare'], bins=10)\n",
    "\n",
    "\n",
    "print('Age Histogram Bins',age_bins)\n",
    "print('Age Histogram Counts',age_hist)\n",
    "\n",
    "print('fare Histogram Bins',fare_bins)\n",
    "print('fare Histogram Counts',fare_hist)\n",
    "\n",
    "\n",
    "# 시각화를 통해 도수분포표를 그리자\n",
    "# 2개의 시각화를 통해 확인하자\n",
    "\n",
    "fig, ax = plt.subplots(1,2, figsize=(12,5))\n",
    "\n",
    "# Age 히스토그램\n",
    "ax[0].bar(age_bins[:-1], age_hist, width= np.diff(age_bins), edgecolor ='black')\n",
    "\n",
    "ax[1].bar(fare_bins[:-1], fare_hist, width= np.diff(fare_bins), edgecolor ='black')\n"
   ]
  },
  {
   "cell_type": "code",
   "execution_count": null,
   "metadata": {},
   "outputs": [],
   "source": []
  },
  {
   "cell_type": "markdown",
   "metadata": {},
   "source": [
    "## Effect Size\n",
    "- 효과크기를 비교하는 Cohen's d 효과크기 계산\n",
    "- 두 그룹 간의 차이를 수치로 표현하는 것. 차이가 얼마나 큰지를 나타내는 지표\n",
    "    - 단순한 통계적 유의성(p-value)을 넘어 실질적인 그 차이가 얼마나 의미가 있는지 평가할 때 사용\n",
    "    \n",
    "    \n",
    "- 두 집단의 평균 차이를 표준편차로 나눈 값\n",
    "- 효과 크기를 계산한 값의 수치를 아래와 같이 판별한다\n",
    "    - 0.2 미만 : 작은 효과\n",
    "    - 0.5 : 중간 효과\n",
    "    - 0.8 이상: 큰 효과"
   ]
  },
  {
   "cell_type": "code",
   "execution_count": 16,
   "metadata": {},
   "outputs": [
    {
     "name": "stdout",
     "output_type": "stream",
     "text": [
      "Requirement already satisfied: scipy in c:\\users\\bestl\\anaconda3\\lib\\site-packages (1.4.1)\n",
      "Requirement already satisfied: numpy>=1.13.3 in c:\\users\\bestl\\anaconda3\\lib\\site-packages (from scipy) (1.18.1)\n"
     ]
    }
   ],
   "source": [
    "# 타이타닉 데이터의 fare. 생존 여부에 따라 두 그룹을 fare로 비교한다.\n",
    "\n",
    "# 생존자와 비생존자 출력\n",
    "!pip install scipy\n",
    "from scipy.stats import ttest_ind\n"
   ]
  },
  {
   "cell_type": "code",
   "execution_count": 15,
   "metadata": {},
   "outputs": [
    {
     "data": {
      "text/plain": [
       "1      71.2833\n",
       "2       7.9250\n",
       "3      53.1000\n",
       "8      11.1333\n",
       "9      30.0708\n",
       "        ...   \n",
       "875     7.2250\n",
       "879    83.1583\n",
       "880    26.0000\n",
       "887    30.0000\n",
       "889    30.0000\n",
       "Name: fare, Length: 342, dtype: float64"
      ]
     },
     "execution_count": 15,
     "metadata": {},
     "output_type": "execute_result"
    }
   ],
   "source": [
    "fare_sur = titanic[titanic['survived'] == 1 ]['fare']\n",
    "fare_not_sur = titanic[titanic['survived'] == 0 ]['fare']\n",
    "fare_sur"
   ]
  },
  {
   "cell_type": "code",
   "execution_count": 20,
   "metadata": {},
   "outputs": [
    {
     "name": "stdout",
     "output_type": "stream",
     "text": [
      "0.5469100615319403\n"
     ]
    }
   ],
   "source": [
    "#cohen's 계산함수 -> 알아만두고 그냥 쓰는것\n",
    "def cohens_df(x,y):\n",
    "    nx = len(x)\n",
    "    ny = len(y)\n",
    "    dof = nx + ny -2\n",
    "    pool_std = np.sqrt(((nx-1) * np.std(x, ddof=1) ** 2 + (ny-1) * np.std(y, ddof=1) ** 2) / dof)  # 오타 수정\n",
    "    d = (np.mean(x) - np.mean(y)) / pool_std\n",
    "    return d\n",
    "\n",
    "# Cohen's d 계산\n",
    "d = cohens_df(fare_sur, fare_not_sur)\n",
    "print(d)"
   ]
  },
  {
   "cell_type": "code",
   "execution_count": null,
   "metadata": {},
   "outputs": [],
   "source": []
  },
  {
   "cell_type": "code",
   "execution_count": null,
   "metadata": {},
   "outputs": [],
   "source": []
  },
  {
   "cell_type": "markdown",
   "metadata": {},
   "source": [
    "## 막대그래프\n",
    "- 막대랑 히스토는 다르다. 얘는 count\n",
    "- 히스토는 연속값"
   ]
  },
  {
   "cell_type": "code",
   "execution_count": 22,
   "metadata": {},
   "outputs": [
    {
     "data": {
      "text/plain": [
       "Third     491\n",
       "First     216\n",
       "Second    184\n",
       "Name: class, dtype: int64"
      ]
     },
     "execution_count": 22,
     "metadata": {},
     "output_type": "execute_result"
    }
   ],
   "source": [
    "#이게 시각화되는 것\n",
    "titanic['class'].value_counts()"
   ]
  },
  {
   "cell_type": "code",
   "execution_count": 21,
   "metadata": {},
   "outputs": [
    {
     "data": {
      "text/plain": [
       "<AxesSubplot:xlabel='class', ylabel='count'>"
      ]
     },
     "execution_count": 21,
     "metadata": {},
     "output_type": "execute_result"
    },
    {
     "data": {
      "image/png": "[encoded data removed]",
      "text/plain": [
       "<Figure size 432x288 with 1 Axes>"
      ]
     },
     "metadata": {
      "needs_background": "light"
     },
     "output_type": "display_data"
    }
   ],
   "source": [
    "sns.countplot(x = 'class', data = titanic)"
   ]
  },
  {
   "cell_type": "markdown",
   "metadata": {},
   "source": [
    "## 통계: 산포의 척도 및 두 데이터의 관계\n",
    "- 통계량을 보고 모수를 추측하는 과정임\n",
    "- 다 조사하기 어려우니까 모집단 추출해서 표본을 연산하여 전체를 추론하는 과정\n",
    "\n",
    "\n",
    "- 표준분산에서 왜 n-1이 분모가 되는가? \n",
    "    - 모분산에서는 n인데! 자유도 때문. \n",
    "    - 자유도가 뭔데?? 안에 데이터가 하나 더 들어감. \n",
    "    - 표본 평균이 하나 더들어가서 시그마에서 n-1을 하나 더빼줘야함\n",
    "    - X바는 모분산의 통계지 데이터의 값이 아니라 빼줌\n",
    "    - 다른관점으로는 표본평균에서 표준편차를 빼주는 과정임.마지막 끝값의 경우 앞에 있는 것들 때문에 정해져있고 평균의 한계로 마지막값은 그냥 정해져있음. 앞선 편차들의 값으로 인해 편차의 값이 0이 되어야함. 어짜피 뭘해도 끝값이 0이니 n-1로 마지막 값을 빼주는 것 -> 편차 다합치면 0이 되어야함. 자유롭게 움직일 수 있는 편차는 마지막 값제외 n-1 개임\n",
    "    - 독립적으로 취할 수 있는 변수 측면. 편차에서 합하면 0. 어떤 끝 값은 0이 되는 수로 정해져야함 -> 자유도를 잃으니 n-1개가 되어야한다. \n",
    "    \n",
    "    \n",
    "#### 산포란\n",
    "- 데이터가 얼마나 퍼져있는가를 나타내는 지표"
   ]
  },
  {
   "cell_type": "markdown",
   "metadata": {},
   "source": [
    "### 공식 볼 때\n",
    "- x가 관측치, x바가 모평균(등등 예측치)"
   ]
  },
  {
   "cell_type": "markdown",
   "metadata": {},
   "source": [
    "### 편차\n",
    "- 편차는 각 데이터의 포인트와 데이터 세트의 평균과 차이\n",
    "- 편차의 합은 항상 0이 되어야 한다. \n",
    "\n",
    "### 분산\n",
    "- 편차의 제곱의 합을 자료의 수로 나눈 값\n",
    "- 통계량이면 편차제곱의 합을 자유도(n-1)로 나눈 값\n",
    "- 모분산과 표본분산의 차이를 꼭 알아야함\n",
    "- 평균 중심으로 데이터가 얼마나 흩어진지를 계산하는 것이구나! 정도 알아주면 됨\n",
    "\n",
    "### 표준 편차\n",
    "- 분산 양의 제곱근. 분산이 제곱이므로 루트 씌워주기\n",
    "- 모표준편차, 표본표준편차. 일부만 추려서 해주는 것. \n",
    "\n",
    "\n",
    "### 범위\n",
    "- 최대 자료에서 최소 자료를 뺀 값\n",
    "- R = Xmax - Xmin\n",
    "    - 막상 최대 - 최소를 단순히 빼버리면 이상치, 극단치의 영향을 많이 받게 된다.\n",
    "\n",
    "\n",
    "### 변동계수\n",
    "- 표준편차를 평균적으로 나눈 크기"
   ]
  },
  {
   "cell_type": "markdown",
   "metadata": {},
   "source": [
    "### 상관관계 척도\n",
    "- 공분산과 상관 계수\n",
    "- 선형적 관계를 강도와 방향으로 측정하는 지표. 양방향, 음방향.\n",
    "- 강도는 기울기. 값의 절대치로 보면된다\n",
    "- 어려운 부분도 표본 공분산인 경우도 많다. 평균에서 표본치를 뺀다. \n",
    "    - (예측치 - 평균값) * (생존관측치 - 생존여부)\n",
    "    \n",
    "- 상관 지표를 나타내는 것이 공분산과 상관계수"
   ]
  },
  {
   "cell_type": "markdown",
   "metadata": {},
   "source": [
    "- 오늘은 공분산 까지\n",
    "### 공분산\n",
    "- 두 변수의 편차를 곱하여 합한 값을 자료 수로 나눈 것.\n",
    "- 공분산이 일종의 면적이라고 하는 경우가 있음 : 각각 관측치와 기대치를 빼고 지표를 찍으면 도형이 된다. "
   ]
  },
  {
   "cell_type": "code",
   "execution_count": null,
   "metadata": {},
   "outputs": [],
   "source": []
  }
 ],
 "metadata": {
  "kernelspec": {
   "display_name": "Python 3",
   "language": "python",
   "name": "python3"
  },
  "language_info": {
   "codemirror_mode": {
    "name": "ipython",
    "version": 3
   },
   "file_extension": ".py",
   "mimetype": "text/x-python",
   "name": "python",
   "nbconvert_exporter": "python",
   "pygments_lexer": "ipython3",
   "version": "3.7.6"
  }
 },
 "nbformat": 4,
 "nbformat_minor": 4
}
