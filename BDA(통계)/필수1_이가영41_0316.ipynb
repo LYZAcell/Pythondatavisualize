{
 "cells": [
  {
   "cell_type": "markdown",
   "metadata": {},
   "source": [
    "### 필수과제1\n",
    "- 4가지 이상의 요구조건을 만들어서 코드를 작성하고 값을 출력했다.\n",
    "- e.g. 저는 5가지 컬럼을 사용하여 질문에 대한 답을 코드와 값으로 보여줬으니 여러분들은! 아래에 요구조건으로 과제를 진행해 주세요!\n",
    "- 필수과제로 최소 10개 이상 질문으로 코드 -> 답 나오는 것으로 만들어주세요. 최소 3개 이상 컬럼을 사용해 주세요!\n",
    "- 먼저 선 질문 후 코드 "
   ]
  },
  {
   "cell_type": "code",
   "execution_count": 2,
   "metadata": {},
   "outputs": [],
   "source": [
    "import seaborn as sns\n",
    "import pandas as pd\n",
    "import numpy as np\n",
    "tt = sns.load_dataset('titanic')"
   ]
  },
  {
   "cell_type": "code",
   "execution_count": 5,
   "metadata": {},
   "outputs": [
    {
     "data": {
      "text/plain": [
       "35.11396753846147"
      ]
     },
     "execution_count": 5,
     "metadata": {},
     "output_type": "execute_result"
    }
   ],
   "source": [
    "#1. 3등급 남자 중에 age가 50 이상이거나 10 아래인 사람들의 운임 평균: 35달러\n",
    "tt.query(\"\"\"pclass == 3 and sex == 'male' and age > 50 or age >10 \"\"\")['fare'].mean()"
   ]
  },
  {
   "cell_type": "code",
   "execution_count": 6,
   "metadata": {},
   "outputs": [
    {
     "data": {
      "text/plain": [
       "0.3392857142857143"
      ]
     },
     "execution_count": 6,
     "metadata": {},
     "output_type": "execute_result"
    }
   ],
   "source": [
    "#2. fare가 30 이상인 사람들 중 30세 이상 남성들의 생존확률 평균: 30%\n",
    "tt.query(\"\"\"fare > 30 and age > 30 and sex == 'male'\"\"\")['survived'].mean()"
   ]
  },
  {
   "cell_type": "code",
   "execution_count": 7,
   "metadata": {},
   "outputs": [
    {
     "data": {
      "text/plain": [
       "0.9245283018867925"
      ]
     },
     "execution_count": 7,
     "metadata": {},
     "output_type": "execute_result"
    }
   ],
   "source": [
    "#3. fare가 30 이상인 사람들 중 30세 이상 여성들의 생존확률 평균: 92%\n",
    "tt.query(\"\"\"fare > 30 and age > 30 and sex == 'female'\"\"\")['survived'].mean()"
   ]
  },
  {
   "cell_type": "code",
   "execution_count": 9,
   "metadata": {},
   "outputs": [
    {
     "data": {
      "text/plain": [
       "0.41818181818181815"
      ]
     },
     "execution_count": 9,
     "metadata": {},
     "output_type": "execute_result"
    }
   ],
   "source": [
    "#4. pclass가 3인 여성들 중 20세 이상 여성들의 생존 확률: 41%\n",
    "tt.query(\"\"\"pclass == 3 and sex == 'female' and age > 20\"\"\")['survived'].mean()"
   ]
  },
  {
   "cell_type": "code",
   "execution_count": 11,
   "metadata": {},
   "outputs": [
    {
     "data": {
      "text/plain": [
       "0.22916666666666666"
      ]
     },
     "execution_count": 11,
     "metadata": {},
     "output_type": "execute_result"
    }
   ],
   "source": [
    "#5. 남성들 중 10달러 이상 50달러 이히의 운임을 낸 사람 중 혼자가 아니었던 사람의 생존률:22%\n",
    "tt.query(\"\"\"sex == 'male' and fare> 10 and fare <50 and alone == False\"\"\")['survived'].mean()"
   ]
  },
  {
   "cell_type": "code",
   "execution_count": 13,
   "metadata": {},
   "outputs": [
    {
     "data": {
      "text/plain": [
       "0.5"
      ]
     },
     "execution_count": 13,
     "metadata": {},
     "output_type": "execute_result"
    }
   ],
   "source": [
    "#6. 100달러 이상의 돈을 낸 혼자 탄 남자들의 생존률 표준편차: 0.5\n",
    "tt.query(\"\"\"sex == 'male' and fare > 100 and alone == True\"\"\")['survived'].std()"
   ]
  },
  {
   "cell_type": "code",
   "execution_count": 18,
   "metadata": {},
   "outputs": [
    {
     "data": {
      "text/plain": [
       "0.0"
      ]
     },
     "execution_count": 18,
     "metadata": {},
     "output_type": "execute_result"
    }
   ],
   "source": [
    "#7. 10달러 이상의 운임을 낸 20살 이상의  2,3등급의 생존 중간 값은 0 : 반 넘게 못살았다.\n",
    "tt.query(\"sex == 'male' and age>20 and pclass== 3 or pclass ==2\")['survived'].median()"
   ]
  },
  {
   "cell_type": "code",
   "execution_count": 19,
   "metadata": {},
   "outputs": [
    {
     "data": {
      "text/plain": [
       "78"
      ]
     },
     "execution_count": 19,
     "metadata": {},
     "output_type": "execute_result"
    }
   ],
   "source": [
    "#8. 여성 중 50달러 이하로 낸 사람 이고 혼자가 아니었던 여성 중 생존한 사람의 수: 78명\n",
    "tt.query(\"\"\"sex == 'female' and fare < 50 and alone == False\"\"\")['survived'].sum()"
   ]
  },
  {
   "cell_type": "code",
   "execution_count": 20,
   "metadata": {},
   "outputs": [
    {
     "data": {
      "text/plain": [
       "survived                                                    233\n",
       "pclass                                                      678\n",
       "sex           femalefemalefemalefemalefemalefemalefemalefema...\n",
       "age                                                        7286\n",
       "sibsp                                                       218\n",
       "parch                                                       204\n",
       "fare                                                    13966.7\n",
       "class         FirstThirdFirstThirdSecondThirdFirstThirdSecon...\n",
       "who           womanwomanwomanwomanchildchildwomanchildwomanw...\n",
       "adult_male                                                    0\n",
       "alive         yesyesyesyesyesyesyesnoyesnoyesyesnoyesyesyesy...\n",
       "alone                                                       126\n",
       "dtype: object"
      ]
     },
     "execution_count": 20,
     "metadata": {},
     "output_type": "execute_result"
    }
   ],
   "source": [
    "# 별도로 쿼리 던졌을 때 여성에 관한 정보들\n",
    "tt.query(\"\"\"sex == 'female'\"\"\").sum()"
   ]
  },
  {
   "cell_type": "code",
   "execution_count": 23,
   "metadata": {},
   "outputs": [
    {
     "data": {
      "text/plain": [
       "6.0768"
      ]
     },
     "execution_count": 23,
     "metadata": {},
     "output_type": "execute_result"
    }
   ],
   "source": [
    "#9 아이 중 살아남았고 3등급이었던 아이의 평균 나이: 6살\n",
    "tt.query(\"\"\"who == 'child' and alive == 'yes' and pclass == 3\"\"\")['age'].mean()"
   ]
  },
  {
   "cell_type": "code",
   "execution_count": 25,
   "metadata": {},
   "outputs": [
    {
     "data": {
      "text/plain": [
       "45"
      ]
     },
     "execution_count": 25,
     "metadata": {},
     "output_type": "execute_result"
    }
   ],
   "source": [
    "#10. 아이 중 살아남았고 혼자가 아니었던 아이들의 생존자 수: 45명\n",
    "tt.query(\"\"\"who == 'child' and alive == 'yes' and alone == False\"\"\")['survived'].count()"
   ]
  },
  {
   "cell_type": "code",
   "execution_count": 29,
   "metadata": {},
   "outputs": [
    {
     "data": {
      "text/plain": [
       "0.5903614457831325"
      ]
     },
     "execution_count": 29,
     "metadata": {},
     "output_type": "execute_result"
    }
   ],
   "source": [
    "#아이들의 생존확률:59%\n",
    "tt.query(\"\"\"who == 'child'\"\"\")['survived'].mean()"
   ]
  },
  {
   "cell_type": "code",
   "execution_count": null,
   "metadata": {},
   "outputs": [],
   "source": []
  },
  {
   "cell_type": "code",
   "execution_count": null,
   "metadata": {},
   "outputs": [],
   "source": []
  }
 ],
 "metadata": {
  "kernelspec": {
   "display_name": "Python 3",
   "language": "python",
   "name": "python3"
  },
  "language_info": {
   "codemirror_mode": {
    "name": "ipython",
    "version": 3
   },
   "file_extension": ".py",
   "mimetype": "text/x-python",
   "name": "python",
   "nbconvert_exporter": "python",
   "pygments_lexer": "ipython3",
   "version": "3.7.6"
  }
 },
 "nbformat": 4,
 "nbformat_minor": 4
}
