{
 "cells": [
  {
   "cell_type": "markdown",
   "metadata": {},
   "source": [
    "### 자료형\n",
    "int: 정수\n",
    "\n",
    "float: 실수(소수점)\n",
    "\n",
    "str: 문자나열\n",
    "\n",
    "list: 나열된 그룹ex)[1,2,3,4,5]\n",
    "\n",
    "\n",
    "dict: 이름(key)별로 정의된 그룹 ex){\"이름\":\"이가영\",\"전화번호\":\"010-\"}"
   ]
  },
  {
   "cell_type": "code",
   "execution_count": 1,
   "metadata": {},
   "outputs": [
    {
     "name": "stdout",
     "output_type": "stream",
     "text": [
      "1\n",
      "수업중입니다\n"
     ]
    }
   ],
   "source": [
    "# 변수 =  값/데이터\n",
    "x = 1\n",
    "y = \"수업중입니다\"\n",
    "print(x)\n",
    "print(y)"
   ]
  },
  {
   "cell_type": "code",
   "execution_count": 3,
   "metadata": {},
   "outputs": [
    {
     "name": "stdout",
     "output_type": "stream",
     "text": [
      "11\n"
     ]
    }
   ],
   "source": [
    "# 순차적 실행이라 변수값이 바뀜\n",
    "y = 3\n",
    "y = 11\n",
    "# 11로 바뀜\n",
    "print(y)"
   ]
  },
  {
   "cell_type": "code",
   "execution_count": 5,
   "metadata": {},
   "outputs": [
    {
     "name": "stdout",
     "output_type": "stream",
     "text": [
      "<class 'int'>\n"
     ]
    }
   ],
   "source": [
    "# int, float\n",
    "x = 15\n",
    "print(type(x))"
   ]
  },
  {
   "cell_type": "code",
   "execution_count": 6,
   "metadata": {},
   "outputs": [
    {
     "data": {
      "text/plain": [
       "float"
      ]
     },
     "execution_count": 6,
     "metadata": {},
     "output_type": "execute_result"
    }
   ],
   "source": [
    "y = 9.5\n",
    "type(y)"
   ]
  },
  {
   "cell_type": "code",
   "execution_count": 7,
   "metadata": {},
   "outputs": [
    {
     "name": "stdout",
     "output_type": "stream",
     "text": [
      "14\n",
      "4\n",
      "45\n",
      "1.8\n"
     ]
    }
   ],
   "source": [
    "# 숫자형 데이터 사칙연산\n",
    "a = 9\n",
    "b = 5\n",
    "print(a + b)\n",
    "print(a - b)\n",
    "print(a * b)\n",
    "print(a / b)\n"
   ]
  },
  {
   "cell_type": "code",
   "execution_count": 9,
   "metadata": {},
   "outputs": [
    {
     "name": "stdout",
     "output_type": "stream",
     "text": [
      "1\n",
      "4\n"
     ]
    }
   ],
   "source": [
    "#나누기 몫\n",
    "print(a // b)\n",
    "#나머지\n",
    "print(a % b)"
   ]
  },
  {
   "cell_type": "code",
   "execution_count": 12,
   "metadata": {},
   "outputs": [
    {
     "name": "stdout",
     "output_type": "stream",
     "text": [
      "<class 'str'>\n",
      "sksk\n"
     ]
    }
   ],
   "source": [
    "# 문자열 str.문자는 큰 따옴표나 작은따옴표 사용 필수\n",
    "s1 = \"가가\"\n",
    "print(type(s1))\n",
    "s2 = 'sksk'\n",
    "print(s2)"
   ]
  },
  {
   "cell_type": "code",
   "execution_count": 13,
   "metadata": {},
   "outputs": [
    {
     "name": "stdout",
     "output_type": "stream",
     "text": [
      "따옴표를 까먹었지만 갠차나\n"
     ]
    }
   ],
   "source": [
    "# 만약 문자열에서 따옴표 입력을 잊어버렸다면 드래그 후 따옴표\n",
    "ss = \"따옴표를 까먹었지만 갠차나\"\n",
    "print(ss)"
   ]
  },
  {
   "cell_type": "code",
   "execution_count": 15,
   "metadata": {},
   "outputs": [
    {
     "name": "stdout",
     "output_type": "stream",
     "text": [
      "산토끼\n"
     ]
    }
   ],
   "source": [
    "s3 = \"산\"\n",
    "s4 = \"토끼\"\n",
    "print( s3 + s4 )"
   ]
  },
  {
   "cell_type": "code",
   "execution_count": 16,
   "metadata": {},
   "outputs": [
    {
     "name": "stdout",
     "output_type": "stream",
     "text": [
      "[1, 2, 3, 4, 5]\n"
     ]
    }
   ],
   "source": [
    "# list\n",
    "# 리스트명 = [원소1, 원소2, ...... 원소n]\n",
    "li = [1, 2, 3, 4, 5]\n",
    "print(li)"
   ]
  },
  {
   "cell_type": "code",
   "execution_count": 19,
   "metadata": {},
   "outputs": [
    {
     "name": "stdout",
     "output_type": "stream",
     "text": [
      "[1, 2, 3, 5.5, '이가영', [3, 1, 2]]\n"
     ]
    }
   ],
   "source": [
    "#소수, 문자열, 또 다른 리스트 모두 가능\n",
    "li = [1, 2, 3, 5.5, \"이가영\", [3,1,2]]\n",
    "print(li)"
   ]
  },
  {
   "cell_type": "code",
   "execution_count": 21,
   "metadata": {},
   "outputs": [
    {
     "name": "stdout",
     "output_type": "stream",
     "text": [
      "다\n",
      "나\n"
     ]
    }
   ],
   "source": [
    "#인덱싱: 리스트에는 번호가 있다\n",
    "li = ['가', '나', '다', '라']\n",
    "    # 0      1    2      3\n",
    "    # -4    -3    -2    -1\n",
    "print(li[2])\n",
    "print(li[-3])"
   ]
  },
  {
   "cell_type": "code",
   "execution_count": 25,
   "metadata": {},
   "outputs": [
    {
     "name": "stdout",
     "output_type": "stream",
     "text": [
      "['가', '나']\n",
      "['가', '나', '다']\n",
      "['가', '나']\n",
      "['나', '다']\n"
     ]
    }
   ],
   "source": [
    "# 슬라이싱: 리스트 특정 구간 가져오기\n",
    "# 리스트 이름[ 시작 인덱스 번호: 마지막 인덱스 번호]\n",
    "# 주의: 마지막 인덱스는 포함되지 않음\n",
    "print(li[0:2])\n",
    "print(li[-4:3])\n",
    "print(li[-4:-2])\n",
    "print(li[1:-1])"
   ]
  },
  {
   "cell_type": "code",
   "execution_count": 26,
   "metadata": {},
   "outputs": [
    {
     "name": "stdout",
     "output_type": "stream",
     "text": [
      "['나', '다', '라']\n",
      "['가', '나', '다', '라']\n"
     ]
    }
   ],
   "source": [
    "# 마지막 인덱스가 포함되는 경우\n",
    "print(li[1: ])\n",
    "print(li[ : 4])"
   ]
  },
  {
   "cell_type": "code",
   "execution_count": 27,
   "metadata": {},
   "outputs": [
    {
     "name": "stdout",
     "output_type": "stream",
     "text": [
      "4\n"
     ]
    }
   ],
   "source": [
    "# 리스트의 길이 보기. 원소 개수.\n",
    "print(len(li))"
   ]
  },
  {
   "cell_type": "code",
   "execution_count": 28,
   "metadata": {},
   "outputs": [
    {
     "data": {
      "text/plain": [
       "3"
      ]
     },
     "execution_count": 28,
     "metadata": {},
     "output_type": "execute_result"
    }
   ],
   "source": [
    "# 한 글자가 하나의 원소\n",
    "len(\"문자열\")"
   ]
  },
  {
   "cell_type": "code",
   "execution_count": 34,
   "metadata": {},
   "outputs": [
    {
     "name": "stdout",
     "output_type": "stream",
     "text": [
      "['사과', ' 감', '바나나', ' 파인애플', 1, 3, 5, 7, 9]\n",
      "반대 병합\n",
      "[1, 3, 5, 7, 9, '사과', ' 감', '바나나', ' 파인애플']\n",
      "li1 ['사과', ' 감', '바나나', ' 파인애플']\n",
      "li2 [1, 3, 5, 7, 9]\n",
      "['사과', ' 감', '바나나', ' 파인애플', 1, 3, 5, 7, 9]\n"
     ]
    }
   ],
   "source": [
    "# 리스트 병합(li+li)\n",
    "li1 = [\"사과\", \" 감\", \"바나나\", \" 파인애플\"]\n",
    "li2 = [1, 3, 5, 7, 9]\n",
    "\n",
    "print(li1 + li2)\n",
    "print(\"반대 병합\")\n",
    "# 순서 지켜서 병합\n",
    "print(li2 + li1)\n",
    "\n",
    "print(\"li1\", li1)\n",
    "print(\"li2\", li2)\n",
    "\n",
    "#더한 데이터를 저장하고 싶다면\n",
    "li_total = li1 + li2\n",
    "print(li_total)"
   ]
  },
  {
   "cell_type": "code",
   "execution_count": 36,
   "metadata": {},
   "outputs": [
    {
     "name": "stdout",
     "output_type": "stream",
     "text": [
      "['원숭이', '코끼리', '바나나', [2, 4, 6, 8, 10]]\n",
      "4\n"
     ]
    }
   ],
   "source": [
    "li3 = ['원숭이', '코끼리', '바나나']\n",
    "li4 = [2,4,6,8,10]\n",
    "li3.append(li4)\n",
    "# 리스트가 추가되어있음\n",
    "print(li3)\n",
    "print(len(li3))"
   ]
  },
  {
   "cell_type": "code",
   "execution_count": 37,
   "metadata": {},
   "outputs": [
    {
     "data": {
      "text/plain": [
       "{'일자': '2020-01-1', '이름': '홍길동', '전화번호': '010-0000-1111'}"
      ]
     },
     "execution_count": 37,
     "metadata": {},
     "output_type": "execute_result"
    }
   ],
   "source": [
    "# 딕셔너리\n",
    "data= {\n",
    "    \"일자\" : '2020-01-1',\n",
    "    \"이름\" :  '홍길동',\n",
    "    \"전화번호\" : '010-0000-1111'\n",
    "}\n",
    "data"
   ]
  },
  {
   "cell_type": "code",
   "execution_count": 38,
   "metadata": {},
   "outputs": [
    {
     "data": {
      "text/plain": [
       "dict_keys(['일자', '이름', '전화번호'])"
      ]
     },
     "execution_count": 38,
     "metadata": {},
     "output_type": "execute_result"
    }
   ],
   "source": [
    "#키(항목명칭 확인)\n",
    "data.keys()"
   ]
  },
  {
   "cell_type": "code",
   "execution_count": 39,
   "metadata": {},
   "outputs": [
    {
     "data": {
      "text/plain": [
       "dict_values(['2020-01-1', '홍길동', '010-0000-1111'])"
      ]
     },
     "execution_count": 39,
     "metadata": {},
     "output_type": "execute_result"
    }
   ],
   "source": [
    "#실제 값들 확인\n",
    "data.values()"
   ]
  },
  {
   "cell_type": "code",
   "execution_count": 40,
   "metadata": {},
   "outputs": [
    {
     "data": {
      "text/plain": [
       "dict_items([('일자', '2020-01-1'), ('이름', '홍길동'), ('전화번호', '010-0000-1111')])"
      ]
     },
     "execution_count": 40,
     "metadata": {},
     "output_type": "execute_result"
    }
   ],
   "source": [
    "# 모든 데이터 확인\n",
    "data.items()"
   ]
  },
  {
   "cell_type": "code",
   "execution_count": 41,
   "metadata": {},
   "outputs": [
    {
     "data": {
      "text/plain": [
       "'홍길동'"
      ]
     },
     "execution_count": 41,
     "metadata": {},
     "output_type": "execute_result"
    }
   ],
   "source": [
    "#dict[key]로 키값 조회\n",
    "data['이름']"
   ]
  },
  {
   "cell_type": "code",
   "execution_count": 42,
   "metadata": {},
   "outputs": [
    {
     "data": {
      "text/plain": [
       "{'일자': '2020-01-1', '이름': '홍길동', '전화번호': '010-0000-1111', '나이': 20}"
      ]
     },
     "execution_count": 42,
     "metadata": {},
     "output_type": "execute_result"
    }
   ],
   "source": [
    "#키 추가\n",
    "data['나이'] = 20\n",
    "data"
   ]
  },
  {
   "cell_type": "code",
   "execution_count": null,
   "metadata": {},
   "outputs": [],
   "source": []
  }
 ],
 "metadata": {
  "kernelspec": {
   "display_name": "Python 3",
   "language": "python",
   "name": "python3"
  },
  "language_info": {
   "codemirror_mode": {
    "name": "ipython",
    "version": 3
   },
   "file_extension": ".py",
   "mimetype": "text/x-python",
   "name": "python",
   "nbconvert_exporter": "python",
   "pygments_lexer": "ipython3",
   "version": "3.7.6"
  }
 },
 "nbformat": 4,
 "nbformat_minor": 4
}
