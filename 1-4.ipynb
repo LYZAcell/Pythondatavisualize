{
 "cells": [
  {
   "cell_type": "markdown",
   "metadata": {},
   "source": [
    "### 파이썬 기본 문법\n",
    "- 반복문\n",
    "- 조건문\n",
    "- 문자열 포맷팅\n",
    "- 함수"
   ]
  },
  {
   "cell_type": "markdown",
   "metadata": {},
   "source": [
    "### 반복문\n",
    "- 반복문을 통해 그룹(리스트)에서 원소들을 순서대로 하나씩 꺼내 작업 가능.\n",
    "- 반복문이 실행되는 범위는 들여쓰기를 이용해서 표시\n",
    "\n",
    "for 변수 in 그룹:\n",
    "\n",
    "    작업내용"
   ]
  },
  {
   "cell_type": "code",
   "execution_count": 1,
   "metadata": {},
   "outputs": [
    {
     "name": "stdout",
     "output_type": "stream",
     "text": [
      "바나나\n",
      "사과\n",
      "딸기\n",
      "배\n",
      "감\n"
     ]
    }
   ],
   "source": [
    "#하나씩 출력하기\n",
    "fruits = ['바나나', '사과', '딸기', '배', '감']\n",
    "\n",
    "# 들여쓰기에 유의할 것\n",
    "for fruit in fruits:\n",
    "    print(fruit)"
   ]
  },
  {
   "cell_type": "code",
   "execution_count": 2,
   "metadata": {},
   "outputs": [
    {
     "name": "stdout",
     "output_type": "stream",
     "text": [
      "들여쓰기 맞게 한 경우\n",
      "바나나\n",
      "사과\n",
      "딸기\n",
      "배\n",
      "감\n",
      "끝\n"
     ]
    }
   ],
   "source": [
    "#들여쓰기 차이\n",
    "print(\"들여쓰기 맞게 한 경우\")\n",
    "for fruit in fruits:\n",
    "    print(fruit)\n",
    "print(\"끝\")"
   ]
  },
  {
   "cell_type": "code",
   "execution_count": 3,
   "metadata": {},
   "outputs": [
    {
     "name": "stdout",
     "output_type": "stream",
     "text": [
      "바나나\n",
      "이게 왜 여깄어\n",
      "사과\n",
      "이게 왜 여깄어\n",
      "딸기\n",
      "이게 왜 여깄어\n",
      "배\n",
      "이게 왜 여깄어\n",
      "감\n",
      "이게 왜 여깄어\n"
     ]
    }
   ],
   "source": [
    "#들여쓰기 틀리게 생각한 경우\n",
    "for fruit in fruits:\n",
    "    print(fruit)\n",
    "    print(\"이게 왜 여깄어\")"
   ]
  },
  {
   "cell_type": "code",
   "execution_count": 4,
   "metadata": {},
   "outputs": [],
   "source": [
    "# 들여쓰기 잘못한 경우-> shift+tab하면 땡기기\n",
    "# tab만 누르면 들이기"
   ]
  },
  {
   "cell_type": "markdown",
   "metadata": {},
   "source": [
    "### 조건문\n",
    "- 조건에 맞을 경우 실행\n",
    "- 비교연산자 <,>, == 활용가능\n",
    "- ==은 똑같나를 비교\n",
    "\n",
    "if 조건 1:\n",
    "    \n",
    "    조건1이 T일 경우 실행\n",
    "    \n",
    "elif 조건2:\n",
    "    \n",
    "    조건1이 F이면서 조건2가 T일 경우 실행\n",
    "\n",
    "else: \n",
    "\n",
    "    위 조건 모두에 해당없을 때 해당"
   ]
  },
  {
   "cell_type": "code",
   "execution_count": 6,
   "metadata": {},
   "outputs": [
    {
     "name": "stdin",
     "output_type": "stream",
     "text": [
      "숫자를 입력해주세요 10\n"
     ]
    },
    {
     "name": "stdout",
     "output_type": "stream",
     "text": [
      "짝수\n"
     ]
    }
   ],
   "source": [
    "# 홀짝 판단.\n",
    "n = input(\"숫자를 입력해주세요\")\n",
    "n = int(n)\n",
    "if n < 1:\n",
    "    print('1이상의 자연수를 입력해주세요')\n",
    "elif n % 2 == 0:\n",
    "    print(\"짝수\")\n",
    "else:\n",
    "    print(\"홀수\")"
   ]
  },
  {
   "cell_type": "code",
   "execution_count": 7,
   "metadata": {},
   "outputs": [],
   "source": [
    "# 부등호 예제\n",
    "shop_A = ['사과', '배', '파인애플']\n",
    "shop_B = ['딸기', '포도', '사과','배']"
   ]
  },
  {
   "cell_type": "code",
   "execution_count": 9,
   "metadata": {},
   "outputs": [
    {
     "name": "stdout",
     "output_type": "stream",
     "text": [
      "B가 더 많아여\n"
     ]
    }
   ],
   "source": [
    "# 어느 가게 과일 종류가 더 많은가요?\n",
    "\n",
    "if len(shop_A) > len(shop_B):\n",
    "    print(\"A가 더 많은 과일을 갖고 있다\")\n",
    "    \n",
    "elif len(shop_A) < len(shop_B):\n",
    "    print(\"B가 더 많아여\")\n",
    "    \n",
    "else:\n",
    "    print('A나 B나')"
   ]
  },
  {
   "cell_type": "code",
   "execution_count": 10,
   "metadata": {},
   "outputs": [
    {
     "data": {
      "text/plain": [
       "False"
      ]
     },
     "execution_count": 10,
     "metadata": {},
     "output_type": "execute_result"
    }
   ],
   "source": [
    "# 원소 in 그룹을 활용한 포함여부 확인\n",
    "shop_A = ['사과', '배', '파인애플']\n",
    "\"딸기\" in  shop_A"
   ]
  },
  {
   "cell_type": "code",
   "execution_count": 11,
   "metadata": {},
   "outputs": [
    {
     "name": "stdout",
     "output_type": "stream",
     "text": [
      "없다\n"
     ]
    }
   ],
   "source": [
    "if \"딸기\" in shop_A:\n",
    "    print(\"있다\")\n",
    "else:\n",
    "    print(\"없다\")"
   ]
  },
  {
   "cell_type": "code",
   "execution_count": 12,
   "metadata": {},
   "outputs": [
    {
     "data": {
      "text/plain": [
       "True"
      ]
     },
     "execution_count": 12,
     "metadata": {},
     "output_type": "execute_result"
    }
   ],
   "source": [
    "#미판매 여부 not in\n",
    "\"포도\" not in shop_A"
   ]
  },
  {
   "cell_type": "code",
   "execution_count": 13,
   "metadata": {},
   "outputs": [
    {
     "name": "stdout",
     "output_type": "stream",
     "text": [
      "포도 없어요\n"
     ]
    }
   ],
   "source": [
    "if \"포도\" not in shop_A:\n",
    "    print(\"포도 없어요\")"
   ]
  },
  {
   "cell_type": "code",
   "execution_count": 14,
   "metadata": {},
   "outputs": [
    {
     "name": "stdout",
     "output_type": "stream",
     "text": [
      "A가 B에 포함된다\n"
     ]
    }
   ],
   "source": [
    "# == 일치여부 확인\n",
    "A = '태극기'\n",
    "B = '태극기가 바람에 펄럭입니다'\n",
    "\n",
    "if A == B:\n",
    "    print(\"일치\")\n",
    "elif A in B:\n",
    "    print(\"A가 B에 포함된다\")\n",
    "\n",
    "else:\n",
    "    print('A,B는 다르다')"
   ]
  },
  {
   "cell_type": "code",
   "execution_count": null,
   "metadata": {},
   "outputs": [],
   "source": []
  }
 ],
 "metadata": {
  "kernelspec": {
   "display_name": "Python 3",
   "language": "python",
   "name": "python3"
  },
  "language_info": {
   "codemirror_mode": {
    "name": "ipython",
    "version": 3
   },
   "file_extension": ".py",
   "mimetype": "text/x-python",
   "name": "python",
   "nbconvert_exporter": "python",
   "pygments_lexer": "ipython3",
   "version": "3.7.6"
  }
 },
 "nbformat": 4,
 "nbformat_minor": 4
}
