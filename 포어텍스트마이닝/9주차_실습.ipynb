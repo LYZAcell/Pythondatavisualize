{
 "cells": [
  {
   "cell_type": "markdown",
   "metadata": {},
   "source": [
    "### 앞으로 방향\n",
    "- 하지는 않겠지만 selenium도 알아보면 좋다\n",
    "- dataframe 다루기\n",
    "- 전처리 시 대소문자 처리 여부 관련 _ 보통 lower해서 소문자로 통일\n",
    "- 분석 단위: 문장? 어휘? 띄어쓰기? "
   ]
  },
  {
   "cell_type": "markdown",
   "metadata": {},
   "source": [
    "### 9주차 수업: 불용어 처리와 토큰화\n",
    "\n",
    "1. 불용어\n",
    "- 텍스트에 빈번하게 등장 하지만 일반적으로 분석대상으로 여겨지지 않는 단어들\n",
    "- 관사, 전치사, 복합시제 조동사, 단음절 어휘 등\n",
    "- 텍스트 분석 목적에 따라 불용어의 기준(= 리스트)이 다를 수 있다.\n",
    "\n",
    "\n",
    "- 단음절만 제거하면-> not, não도 불용어에 포함된다 _ 의미를 뒤바꿔놓을 수 있는 상황.\n",
    "\n",
    "\n",
    "- 정석은 아니지만 교수님 추천 순서\n",
    "    - 텍스트 정제(puctuation) -> 대소문자 통합(lower) -> 어근추출 -> 토큰화 -> 불용어 처리\n",
    "    - 대소문자 처리 시 EU-eu, US(A)-us 등을 구분해줄 기준을 만들어야함\n",
    "    - 어근 추출 = 원형 어휘로 일원화 (표제어 추출) -> 동사 변형 잡기 위한 ter 등의 inf 추출\n",
    "    - 토큰화 _ 문장, 단어단위로 분리하기\n",
    "        -     - 컴퓨터는 기본적으로 낱개의 문자 단위로 글자를 인식한다 -> 불용어 처리 불가. 때문에 토큰화\n",
    "    - 불용어 처리: 태깅된 단어 기반으로 단어 제거해주기 ex_ us는 objective, US는 noun 등으로 태깅 구분을 줄 수 있음\n",
    "- 오늘은 어근추출은 하지 않는다"
   ]
  },
  {
   "cell_type": "code",
   "execution_count": 3,
   "metadata": {},
   "outputs": [
    {
     "name": "stdout",
     "output_type": "stream",
     "text": [
      "5\n",
      "['red', 'green', 'blue', 'magenta', 'cyan']\n"
     ]
    }
   ],
   "source": [
    "#for문 예제\n",
    "colors = ['red','green','blue','magenta','cyan']\n",
    "print(len(colors))\n",
    "print(colors)"
   ]
  },
  {
   "cell_type": "code",
   "execution_count": 17,
   "metadata": {},
   "outputs": [
    {
     "name": "stdout",
     "output_type": "stream",
     "text": [
      "green,blue,magenta,cyan"
     ]
    }
   ],
   "source": [
    "for color in colors:\n",
    "            \n",
    "    if color == \"cyan\":\n",
    "        print(color, end = '')\n",
    "    #red보다 글자수가 길면 출력\n",
    "    elif len(color)>len(colors[0]):\n",
    "        print(color, end = ',')\n"
   ]
  },
  {
   "cell_type": "code",
   "execution_count": 9,
   "metadata": {},
   "outputs": [
    {
     "name": "stdout",
     "output_type": "stream",
     "text": [
      "[90, 80, 70]\n"
     ]
    }
   ],
   "source": [
    "#if-continue 관련\n",
    "grades = [90,80,70,60,50,40]\n",
    "array = [] \n",
    "for grade in grades:\n",
    "    if grade >= 69:\n",
    "        array.append(grade)\n",
    "        \n",
    "print(array)"
   ]
  },
  {
   "cell_type": "code",
   "execution_count": 12,
   "metadata": {},
   "outputs": [
    {
     "name": "stdout",
     "output_type": "stream",
     "text": [
      "[60, 50, 40]\n"
     ]
    }
   ],
   "source": [
    "#continue 문법\n",
    "array = []\n",
    "for grade in grades:\n",
    "    if grade >= 69: continue #69 이상이면 다음 인덱스로 넘어간다. (= append 되지 않는다.)\n",
    "    array.append(grade)\n",
    "    \n",
    "print(array)"
   ]
  },
  {
   "cell_type": "code",
   "execution_count": 31,
   "metadata": {
    "collapsed": true,
    "jupyter": {
     "outputs_hidden": true
    }
   },
   "outputs": [
    {
     "name": "stdout",
     "output_type": "stream",
     "text": [
      "========== 2단 ==========\n",
      "2 X 1 = 2\n",
      "2 X 2 = 4\n",
      "2 X 3 = 6\n",
      "2 X 4 = 8\n",
      "2 X 5 = 10\n",
      "2 X 6 = 12\n",
      "2 X 7 = 14\n",
      "2 X 8 = 16\n",
      "2 X 9 = 18\n",
      "....\n",
      "2단을 다 외웠습니다\n",
      "========== 3단 ==========\n",
      "3 X 1 = 3\n",
      "3 X 2 = 6\n",
      "3 X 3 = 9\n",
      "3 X 4 = 12\n",
      "3 X 5 = 15\n",
      "3 X 6 = 18\n",
      "3 X 7 = 21\n",
      "3 X 8 = 24\n",
      "3 X 9 = 27\n",
      "....\n",
      "3단을 다 외웠습니다\n",
      "========== 4단 ==========\n",
      "4 X 1 = 4\n",
      "4 X 2 = 8\n",
      "4 X 3 = 12\n",
      "4 X 4 = 16\n",
      "4 X 5 = 20\n",
      "4 X 6 = 24\n",
      "4 X 7 = 28\n",
      "4 X 8 = 32\n",
      "4 X 9 = 36\n",
      "....\n",
      "4단을 다 외웠습니다\n",
      "========== 5단 ==========\n",
      "5 X 1 = 5\n",
      "5 X 2 = 10\n",
      "5 X 3 = 15\n",
      "5 X 4 = 20\n",
      "5 X 5 = 25\n",
      "5 X 6 = 30\n",
      "5 X 7 = 35\n",
      "5 X 8 = 40\n",
      "5 X 9 = 45\n",
      "....\n",
      "5단을 다 외웠습니다\n",
      "========== 6단 ==========\n",
      "6 X 1 = 6\n",
      "6 X 2 = 12\n",
      "6 X 3 = 18\n",
      "6 X 4 = 24\n",
      "6 X 5 = 30\n",
      "6 X 6 = 36\n",
      "6 X 7 = 42\n",
      "6 X 8 = 48\n",
      "6 X 9 = 54\n",
      "....\n",
      "6단을 다 외웠습니다\n",
      "========== 7단 ==========\n",
      "7 X 1 = 7\n",
      "7 X 2 = 14\n",
      "7 X 3 = 21\n",
      "7 X 4 = 28\n",
      "7 X 5 = 35\n",
      "7 X 6 = 42\n",
      "7 X 7 = 49\n",
      "7 X 8 = 56\n",
      "7 X 9 = 63\n",
      "....\n",
      "7단을 다 외웠습니다\n",
      "========== 8단 ==========\n",
      "8 X 1 = 8\n",
      "8 X 2 = 16\n",
      "8 X 3 = 24\n",
      "8 X 4 = 32\n",
      "8 X 5 = 40\n",
      "8 X 6 = 48\n",
      "8 X 7 = 56\n",
      "8 X 8 = 64\n",
      "8 X 9 = 72\n",
      "....\n",
      "8단을 다 외웠습니다\n",
      "========== 9단 ==========\n",
      "9 X 1 = 9\n",
      "9 X 2 = 18\n",
      "9 X 3 = 27\n",
      "9 X 4 = 36\n",
      "9 X 5 = 45\n",
      "9 X 6 = 54\n",
      "9 X 7 = 63\n",
      "9 X 8 = 72\n",
      "9 X 9 = 81\n",
      "....\n",
      "9단을 다 외웠습니다\n"
     ]
    }
   ],
   "source": [
    "# 이중루프\n",
    "for i in range(2,10):\n",
    "    print(f'========== {i}단 ==========')\n",
    "    for j in range(1,10):\n",
    "        print(f'{i} X {j} = {i*j}')\n",
    "        \n",
    "        if j == 9:\n",
    "            print(\"....\")\n",
    "            print(f'{i}단을 다 외웠습니다')"
   ]
  },
  {
   "cell_type": "code",
   "execution_count": 47,
   "metadata": {},
   "outputs": [
    {
     "name": "stdin",
     "output_type": "stream",
     "text": [
      "몇단을 외울까요:  3\n"
     ]
    },
    {
     "name": "stdout",
     "output_type": "stream",
     "text": [
      "3단까지 외웁니다\n",
      "1 X 1 = 1    1 X 2 = 2    1 X 3 = 3    1 X 4 = 4    1 X 5 = 5    1 X 6 = 6    1 X 7 = 7    1 X 8 = 8    1 X 9 = 9    \n",
      "===========================\n",
      "2 X 1 = 2    2 X 2 = 4    2 X 3 = 6    2 X 4 = 8    2 X 5 = 10    2 X 6 = 12    2 X 7 = 14    2 X 8 = 16    2 X 9 = 18    \n",
      "===========================\n",
      "3 X 1 = 3    3 X 2 = 6    3 X 3 = 9    3 X 4 = 12    3 X 5 = 15    3 X 6 = 18    3 X 7 = 21    3 X 8 = 24    3 X 9 = 27    \n",
      "===========================\n"
     ]
    }
   ],
   "source": [
    "dan = int(input(\"몇단을 외울까요: \"))\n",
    "print(f'{dan}단까지 외웁니다')\n",
    "for j in range(1,dan+1):\n",
    "    for i in range(1,10):\n",
    "        print(f'{j} X {i} = {j*i}', end = '    ')\n",
    "    print(\"\")\n",
    "    print(\"===========================\")"
   ]
  },
  {
   "cell_type": "code",
   "execution_count": 1,
   "metadata": {},
   "outputs": [],
   "source": [
    "import nltk\n",
    "import re\n",
    "from nltk.corpus import stopwords"
   ]
  },
  {
   "cell_type": "code",
   "execution_count": 56,
   "metadata": {
    "collapsed": true,
    "jupyter": {
     "outputs_hidden": true
    }
   },
   "outputs": [
    {
     "data": {
      "text/plain": [
       "{'a',\n",
       " 'ao',\n",
       " 'aos',\n",
       " 'aquela',\n",
       " 'aquelas',\n",
       " 'aquele',\n",
       " 'aqueles',\n",
       " 'aquilo',\n",
       " 'as',\n",
       " 'até',\n",
       " 'com',\n",
       " 'como',\n",
       " 'da',\n",
       " 'das',\n",
       " 'de',\n",
       " 'dela',\n",
       " 'delas',\n",
       " 'dele',\n",
       " 'deles',\n",
       " 'depois',\n",
       " 'do',\n",
       " 'dos',\n",
       " 'e',\n",
       " 'ela',\n",
       " 'elas',\n",
       " 'ele',\n",
       " 'eles',\n",
       " 'em',\n",
       " 'entre',\n",
       " 'era',\n",
       " 'eram',\n",
       " 'essa',\n",
       " 'essas',\n",
       " 'esse',\n",
       " 'esses',\n",
       " 'esta',\n",
       " 'estamos',\n",
       " 'estas',\n",
       " 'estava',\n",
       " 'estavam',\n",
       " 'este',\n",
       " 'esteja',\n",
       " 'estejam',\n",
       " 'estejamos',\n",
       " 'estes',\n",
       " 'esteve',\n",
       " 'estive',\n",
       " 'estivemos',\n",
       " 'estiver',\n",
       " 'estivera',\n",
       " 'estiveram',\n",
       " 'estiverem',\n",
       " 'estivermos',\n",
       " 'estivesse',\n",
       " 'estivessem',\n",
       " 'estivéramos',\n",
       " 'estivéssemos',\n",
       " 'estou',\n",
       " 'está',\n",
       " 'estávamos',\n",
       " 'estão',\n",
       " 'eu',\n",
       " 'foi',\n",
       " 'fomos',\n",
       " 'for',\n",
       " 'fora',\n",
       " 'foram',\n",
       " 'forem',\n",
       " 'formos',\n",
       " 'fosse',\n",
       " 'fossem',\n",
       " 'fui',\n",
       " 'fôramos',\n",
       " 'fôssemos',\n",
       " 'haja',\n",
       " 'hajam',\n",
       " 'hajamos',\n",
       " 'havemos',\n",
       " 'hei',\n",
       " 'houve',\n",
       " 'houvemos',\n",
       " 'houver',\n",
       " 'houvera',\n",
       " 'houveram',\n",
       " 'houverei',\n",
       " 'houverem',\n",
       " 'houveremos',\n",
       " 'houveria',\n",
       " 'houveriam',\n",
       " 'houvermos',\n",
       " 'houverá',\n",
       " 'houverão',\n",
       " 'houveríamos',\n",
       " 'houvesse',\n",
       " 'houvessem',\n",
       " 'houvéramos',\n",
       " 'houvéssemos',\n",
       " 'há',\n",
       " 'hão',\n",
       " 'isso',\n",
       " 'isto',\n",
       " 'já',\n",
       " 'lhe',\n",
       " 'lhes',\n",
       " 'mais',\n",
       " 'mas',\n",
       " 'me',\n",
       " 'mesmo',\n",
       " 'meu',\n",
       " 'meus',\n",
       " 'minha',\n",
       " 'minhas',\n",
       " 'muito',\n",
       " 'na',\n",
       " 'nas',\n",
       " 'nem',\n",
       " 'no',\n",
       " 'nos',\n",
       " 'nossa',\n",
       " 'nossas',\n",
       " 'nosso',\n",
       " 'nossos',\n",
       " 'num',\n",
       " 'numa',\n",
       " 'não',\n",
       " 'nós',\n",
       " 'o',\n",
       " 'os',\n",
       " 'ou',\n",
       " 'para',\n",
       " 'pela',\n",
       " 'pelas',\n",
       " 'pelo',\n",
       " 'pelos',\n",
       " 'por',\n",
       " 'qual',\n",
       " 'quando',\n",
       " 'que',\n",
       " 'quem',\n",
       " 'se',\n",
       " 'seja',\n",
       " 'sejam',\n",
       " 'sejamos',\n",
       " 'sem',\n",
       " 'serei',\n",
       " 'seremos',\n",
       " 'seria',\n",
       " 'seriam',\n",
       " 'será',\n",
       " 'serão',\n",
       " 'seríamos',\n",
       " 'seu',\n",
       " 'seus',\n",
       " 'somos',\n",
       " 'sou',\n",
       " 'sua',\n",
       " 'suas',\n",
       " 'são',\n",
       " 'só',\n",
       " 'também',\n",
       " 'te',\n",
       " 'tem',\n",
       " 'temos',\n",
       " 'tenha',\n",
       " 'tenham',\n",
       " 'tenhamos',\n",
       " 'tenho',\n",
       " 'terei',\n",
       " 'teremos',\n",
       " 'teria',\n",
       " 'teriam',\n",
       " 'terá',\n",
       " 'terão',\n",
       " 'teríamos',\n",
       " 'teu',\n",
       " 'teus',\n",
       " 'teve',\n",
       " 'tinha',\n",
       " 'tinham',\n",
       " 'tive',\n",
       " 'tivemos',\n",
       " 'tiver',\n",
       " 'tivera',\n",
       " 'tiveram',\n",
       " 'tiverem',\n",
       " 'tivermos',\n",
       " 'tivesse',\n",
       " 'tivessem',\n",
       " 'tivéramos',\n",
       " 'tivéssemos',\n",
       " 'tu',\n",
       " 'tua',\n",
       " 'tuas',\n",
       " 'tém',\n",
       " 'tínhamos',\n",
       " 'um',\n",
       " 'uma',\n",
       " 'você',\n",
       " 'vocês',\n",
       " 'vos',\n",
       " 'à',\n",
       " 'às',\n",
       " 'é',\n",
       " 'éramos'}"
      ]
     },
     "execution_count": 56,
     "metadata": {},
     "output_type": "execute_result"
    }
   ],
   "source": [
    "#한국어는 지원 X\n",
    "stop_words = set(stopwords.words('portuguese'))\n",
    "stop_words"
   ]
  },
  {
   "cell_type": "code",
   "execution_count": 57,
   "metadata": {},
   "outputs": [
    {
     "data": {
      "text/plain": [
       "204"
      ]
     },
     "execution_count": 57,
     "metadata": {},
     "output_type": "execute_result"
    }
   ],
   "source": [
    "len(stop_words)"
   ]
  },
  {
   "cell_type": "code",
   "execution_count": 80,
   "metadata": {},
   "outputs": [],
   "source": [
    "texto_origin = \"\"\"Eu quero cumprimentar o companheiro Geraldo\n",
    "Alckmin, nosso querido vice-presidente da República;\n",
    "quero cumprimentar o companheiro Arthur Lira, presidente da\n",
    "Câmara dos Deputados;\n",
    "quero cumprimentar o senador Veneziano Vital do Rêgo, vicepresidente do Senado,\n",
    "por meio de quem cumprimento todos os senadores aqui\n",
    "presentes. Quero cumprimentar os deputados aqui presentes.\n",
    "Quero cumprimentar deputados, quero cumprimentar os\n",
    "empresários aqui presentes.\"\"\""
   ]
  },
  {
   "cell_type": "code",
   "execution_count": 72,
   "metadata": {},
   "outputs": [
    {
     "data": {
      "text/plain": [
       "'eu quero cumprimentar o companheiro geraldo\\nalckmin, nosso querido vice-presidente da república;\\nquero cumprimentar o companheiro arthur lira, presidente da\\ncâmara dos deputados;\\nquero cumprimentar o senador veneziano vital do rêgo, vicepresidente do senado,\\npor meio de quem cumprimento todos os senadores aqui\\npresentes. quero cumprimentar os deputados aqui presentes.\\nquero cumprimentar deputados, quero cumprimentar os\\nempresários aqui presentes.'"
      ]
     },
     "execution_count": 72,
     "metadata": {},
     "output_type": "execute_result"
    }
   ],
   "source": [
    "texto_1 = texto_origin.lower()\n",
    "texto_1"
   ]
  },
  {
   "cell_type": "code",
   "execution_count": 73,
   "metadata": {},
   "outputs": [
    {
     "data": {
      "text/plain": [
       "'euquerocumprimentarocompanheirogeraldoalckminnossoqueridovicepresidentedarepúblicaquerocumprimentarocompanheiroarthurlirapresidentedacâmaradosdeputadosquerocumprimentarosenadorvenezianovitaldorêgovicepresidentedosenadopormeiodequemcumprimentotodosossenadoresaquipresentesquerocumprimentarosdeputadosaquipresentesquerocumprimentardeputadosquerocumprimentarosempresáriosaquipresentes'"
      ]
     },
     "execution_count": 73,
     "metadata": {},
     "output_type": "execute_result"
    }
   ],
   "source": [
    "#u00c0- u00FF : 악센트있는 알파벳 처리\n",
    "texto_1 = re.sub('[^A-Za-z0-9\\u00C0-\\u00FF]','',texto_1)\n",
    "texto_1"
   ]
  },
  {
   "cell_type": "code",
   "execution_count": 74,
   "metadata": {},
   "outputs": [],
   "source": [
    "words = []\n",
    "for word in texto_1.split():\n",
    "    if word not in stop_words:\n",
    "        words.append(word)"
   ]
  },
  {
   "cell_type": "code",
   "execution_count": 75,
   "metadata": {},
   "outputs": [
    {
     "data": {
      "text/plain": [
       "['euquerocumprimentarocompanheirogeraldoalckminnossoqueridovicepresidentedarepúblicaquerocumprimentarocompanheiroarthurlirapresidentedacâmaradosdeputadosquerocumprimentarosenadorvenezianovitaldorêgovicepresidentedosenadopormeiodequemcumprimentotodosossenadoresaquipresentesquerocumprimentarosdeputadosaquipresentesquerocumprimentardeputadosquerocumprimentarosempresáriosaquipresentes']"
      ]
     },
     "execution_count": 75,
     "metadata": {},
     "output_type": "execute_result"
    }
   ],
   "source": [
    "words"
   ]
  },
  {
   "cell_type": "code",
   "execution_count": 116,
   "metadata": {},
   "outputs": [],
   "source": [
    "#!pip install string\n",
    "import string"
   ]
  },
  {
   "cell_type": "code",
   "execution_count": 117,
   "metadata": {},
   "outputs": [
    {
     "data": {
      "text/plain": [
       "['euquerocumprimentarocompanheirogeraldoalckminnossoqueridovicepresidentedarepúblicaquerocumprimentarocompanheiroarthurlirapresidentedacâmaradosdeputadosquerocumprimentarosenadorvenezianovitaldorêgovicepresidentedosenadopormeiodequemcumprimentotodosossenadoresaquipresentesquerocumprimentarosdeputadosaquipresentesquerocumprimentardeputadosquerocumprimentarosempresáriosaquipresentes']"
      ]
     },
     "execution_count": 117,
     "metadata": {},
     "output_type": "execute_result"
    }
   ],
   "source": [
    "stop_words = set(stopwords.words('portuguese'))\n",
    "texto = texto_origin.lower()\n",
    "texto = re.sub('[^A-Za-z0-9\\u00C0-\\u00FF]','',texto)\n",
    "texto = texto.translate(str.maketrans('', '', string.punctuation))\n",
    "words =[]\n",
    "for word in texto.split():\n",
    "    if word not in stop_words:\n",
    "        words.append(word)\n",
    "words"
   ]
  },
  {
   "cell_type": "code",
   "execution_count": 98,
   "metadata": {},
   "outputs": [
    {
     "data": {
      "text/plain": [
       "'eu quero cumprimentar o companheiro geraldo\\nalckmin, nosso querido vice-presidente da república;\\nquero cumprimentar o companheiro arthur lira, presidente da\\ncâmara dos deputados;\\nquero cumprimentar o senador veneziano vital do rêgo, vicepresidente do senado,\\npor meio de quem cumprimento todos os senadores aqui\\npresentes. quero cumprimentar os deputados aqui presentes.\\nquero cumprimentar deputados, quero cumprimentar os\\nempresários aqui presentes.'"
      ]
     },
     "execution_count": 98,
     "metadata": {},
     "output_type": "execute_result"
    }
   ],
   "source": [
    "meu_texto = texto_origin\n",
    "meu_texto = meu_texto.lower()\n",
    "#meu_texto = re.sub('[^A-Za-z0-9\\u00C0-\\u00FF]','',texto_1)\n",
    "meu_texto"
   ]
  },
  {
   "cell_type": "code",
   "execution_count": 99,
   "metadata": {},
   "outputs": [],
   "source": [
    "meu_texto = meu_texto.split(' ')"
   ]
  },
  {
   "cell_type": "code",
   "execution_count": 100,
   "metadata": {},
   "outputs": [
    {
     "name": "stdout",
     "output_type": "stream",
     "text": [
      "['quero', 'cumprimentar', 'companheiro', 'geraldo\\nalckmin,', 'querido', 'vice-presidente', 'república;\\nquero', 'cumprimentar', 'companheiro', 'arthur', 'lira,', 'presidente', 'da\\ncâmara', 'deputados;\\nquero', 'cumprimentar', 'senador', 'veneziano', 'vital', 'rêgo,', 'vicepresidente', 'senado,\\npor', 'meio', 'cumprimento', 'todos', 'senadores', 'aqui\\npresentes.', 'quero', 'cumprimentar', 'deputados', 'aqui', 'presentes.\\nquero', 'cumprimentar', 'deputados,', 'quero', 'cumprimentar', 'os\\nempresários', 'aqui', 'presentes.']\n"
     ]
    }
   ],
   "source": [
    "sent = []\n",
    "for word in meu_texto:\n",
    "    if word not in stop_words:\n",
    "        sent.append(word)\n",
    "\n",
    "print(sent)"
   ]
  },
  {
   "cell_type": "code",
   "execution_count": 97,
   "metadata": {},
   "outputs": [
    {
     "data": {
      "text/plain": [
       "['quero',\n",
       " 'cumprimentar',\n",
       " 'companheiro',\n",
       " 'geraldo\\nalckmin,',\n",
       " 'querido',\n",
       " 'vice-presidente',\n",
       " 'república;\\nquero',\n",
       " 'cumprimentar',\n",
       " 'companheiro',\n",
       " 'arthur',\n",
       " 'lira,',\n",
       " 'presidente',\n",
       " 'da\\ncâmara',\n",
       " 'deputados;\\nquero',\n",
       " 'cumprimentar',\n",
       " 'senador',\n",
       " 'veneziano',\n",
       " 'vital',\n",
       " 'rêgo,',\n",
       " 'vicepresidente',\n",
       " 'senado,\\npor',\n",
       " 'meio',\n",
       " 'cumprimento',\n",
       " 'todos',\n",
       " 'senadores',\n",
       " 'aqui\\npresentes.',\n",
       " 'quero',\n",
       " 'cumprimentar',\n",
       " 'deputados',\n",
       " 'aqui',\n",
       " 'presentes.\\nquero',\n",
       " 'cumprimentar',\n",
       " 'deputados,',\n",
       " 'quero',\n",
       " 'cumprimentar',\n",
       " 'os\\nempresários',\n",
       " 'aqui',\n",
       " 'presentes.']"
      ]
     },
     "execution_count": 97,
     "metadata": {},
     "output_type": "execute_result"
    }
   ],
   "source": [
    "sent = [*sent]\n",
    "sent"
   ]
  },
  {
   "cell_type": "markdown",
   "metadata": {},
   "source": [
    "### 단어 토큰화\n",
    "- corpus를 단어로 분리하는 행위\n",
    "- 보통 corpus정제하고 난 뒤 작업\n",
    "- 결합 및 축약된 어휘 관리. 대소문자 및 축약 어휘 처리방법을 관리해야함\n",
    "    - 포어의 경우 estudá-lo  를 estudar-lo로 할건지 estudar,lo, estudá-lo로 토큰화할건지 등에 대해 고민해야하는 분야\n",
    "- 한국어, 일본어의 경우 난이도 최상 ㅎㅎㅎㅎㅎ.."
   ]
  },
  {
   "cell_type": "code",
   "execution_count": 119,
   "metadata": {},
   "outputs": [],
   "source": [
    "import string\n",
    "from nltk.corpus import stopwords\n",
    "from nltk.tokenize import TreebankWordTokenizer as tokenizer\n",
    "import re\n",
    "import pprint"
   ]
  },
  {
   "cell_type": "code",
   "execution_count": 122,
   "metadata": {},
   "outputs": [],
   "source": [
    "texto = \"\"\"Eu quero cumprimentar o companheiro Geraldo\n",
    "Alckmin, nosso querido vice-presidente da República;\n",
    "quero cumprimentar o companheiro Arthur Lira, presidente da\n",
    "Câmara dos Deputados;\n",
    "quero cumprimentar o senador Veneziano Vital do Rêgo, vicepresidente do Senado,\n",
    "por meio de quem cumprimento todos os senadores aqui\n",
    "presentes. Quero cumprimentar os deputados aqui presentes.\n",
    "Quero cumprimentar deputados, quero cumprimentar os\n",
    "empresários aqui presentes.\"\"\""
   ]
  },
  {
   "cell_type": "code",
   "execution_count": 123,
   "metadata": {},
   "outputs": [
    {
     "ename": "TypeError",
     "evalue": "tokenize() missing 1 required positional argument: 'text'",
     "output_type": "error",
     "traceback": [
      "\u001b[1;31m---------------------------------------------------------------------------\u001b[0m",
      "\u001b[1;31mTypeError\u001b[0m                                 Traceback (most recent call last)",
      "\u001b[1;32m<ipython-input-123-23452918eaa7>\u001b[0m in \u001b[0;36m<module>\u001b[1;34m\u001b[0m\n\u001b[0;32m      2\u001b[0m \u001b[0mtexto\u001b[0m \u001b[1;33m=\u001b[0m \u001b[0mtexto\u001b[0m\u001b[1;33m.\u001b[0m\u001b[0mlower\u001b[0m\u001b[1;33m(\u001b[0m\u001b[1;33m)\u001b[0m\u001b[1;33m\u001b[0m\u001b[1;33m\u001b[0m\u001b[0m\n\u001b[0;32m      3\u001b[0m \u001b[0mtexto\u001b[0m \u001b[1;33m=\u001b[0m \u001b[0mtexto\u001b[0m\u001b[1;33m.\u001b[0m\u001b[0mtranslate\u001b[0m\u001b[1;33m(\u001b[0m\u001b[0mstr\u001b[0m\u001b[1;33m.\u001b[0m\u001b[0mmaketrans\u001b[0m\u001b[1;33m(\u001b[0m\u001b[1;34m''\u001b[0m\u001b[1;33m,\u001b[0m\u001b[1;34m''\u001b[0m\u001b[1;33m,\u001b[0m\u001b[0mstring\u001b[0m\u001b[1;33m.\u001b[0m\u001b[0mpunctuation\u001b[0m\u001b[1;33m)\u001b[0m\u001b[1;33m)\u001b[0m\u001b[1;33m\u001b[0m\u001b[1;33m\u001b[0m\u001b[0m\n\u001b[1;32m----> 4\u001b[1;33m \u001b[0mtokens\u001b[0m \u001b[1;33m=\u001b[0m \u001b[0mtokenizer\u001b[0m\u001b[1;33m.\u001b[0m\u001b[0mtokenize\u001b[0m\u001b[1;33m(\u001b[0m\u001b[0mtexto\u001b[0m\u001b[1;33m)\u001b[0m\u001b[1;33m\u001b[0m\u001b[1;33m\u001b[0m\u001b[0m\n\u001b[0m\u001b[0;32m      5\u001b[0m \u001b[1;33m\u001b[0m\u001b[0m\n\u001b[0;32m      6\u001b[0m \u001b[0mwords\u001b[0m \u001b[1;33m=\u001b[0m \u001b[1;33m[\u001b[0m\u001b[1;33m]\u001b[0m\u001b[1;33m\u001b[0m\u001b[1;33m\u001b[0m\u001b[0m\n",
      "\u001b[1;31mTypeError\u001b[0m: tokenize() missing 1 required positional argument: 'text'"
     ]
    }
   ],
   "source": [
    "stop_words = set(stopwords.words('portuguese'))\n",
    "texto = texto.lower()\n",
    "texto = texto.translate(str.maketrans('','',string.punctuation))\n",
    "tokens = tokenizer.tokenize(texto)\n",
    "\n",
    "words = []\n",
    "for word in tokens:\n",
    "    if word not in stop_words:\n",
    "        words.append(word)\n",
    "        \n",
    "pprint.pprint(words)"
   ]
  },
  {
   "cell_type": "code",
   "execution_count": 125,
   "metadata": {},
   "outputs": [
    {
     "name": "stdout",
     "output_type": "stream",
     "text": [
      "['quero',\n",
      " 'cumprimentar',\n",
      " 'companheiro',\n",
      " 'geraldo',\n",
      " 'alckmin',\n",
      " 'querido',\n",
      " 'vicepresidente',\n",
      " 'república',\n",
      " 'quero',\n",
      " 'cumprimentar',\n",
      " 'companheiro',\n",
      " 'arthur',\n",
      " 'lira',\n",
      " 'presidente',\n",
      " 'câmara',\n",
      " 'deputados',\n",
      " 'quero',\n",
      " 'cumprimentar',\n",
      " 'senador',\n",
      " 'veneziano',\n",
      " 'vital',\n",
      " 'rêgo',\n",
      " 'vicepresidente',\n",
      " 'senado',\n",
      " 'meio',\n",
      " 'cumprimento',\n",
      " 'todos',\n",
      " 'senadores',\n",
      " 'aqui',\n",
      " 'presentes',\n",
      " 'quero',\n",
      " 'cumprimentar',\n",
      " 'deputados',\n",
      " 'aqui',\n",
      " 'presentes',\n",
      " 'quero',\n",
      " 'cumprimentar',\n",
      " 'deputados',\n",
      " 'quero',\n",
      " 'cumprimentar',\n",
      " 'empresários',\n",
      " 'aqui',\n",
      " 'presentes']\n"
     ]
    },
    {
     "name": "stderr",
     "output_type": "stream",
     "text": [
      "[nltk_data] Downloading package stopwords to\n",
      "[nltk_data]     C:\\Users\\bestl\\AppData\\Roaming\\nltk_data...\n",
      "[nltk_data]   Package stopwords is already up-to-date!\n",
      "[nltk_data] Downloading package punkt to\n",
      "[nltk_data]     C:\\Users\\bestl\\AppData\\Roaming\\nltk_data...\n",
      "[nltk_data]   Package punkt is already up-to-date!\n"
     ]
    }
   ],
   "source": [
    "import nltk\n",
    "from nltk.corpus import stopwords\n",
    "from nltk.tokenize import word_tokenize\n",
    "import string\n",
    "import pprint\n",
    "\n",
    "# nltk의 불용어(stopwords) 데이터를 다운로드\n",
    "nltk.download('stopwords')\n",
    "nltk.download('punkt')\n",
    "\n",
    "# 불용어(stopwords)와 토크나이저(tokenizer)를 가져옴\n",
    "stop_words = set(stopwords.words('portuguese'))\n",
    "tokenizer = nltk.RegexpTokenizer(r'\\w+')\n",
    "\n",
    "# 텍스트 예시\n",
    "texto =  \"\"\"Eu quero cumprimentar o companheiro Geraldo\n",
    "Alckmin, nosso querido vice-presidente da República;\n",
    "quero cumprimentar o companheiro Arthur Lira, presidente da\n",
    "Câmara dos Deputados;\n",
    "quero cumprimentar o senador Veneziano Vital do Rêgo, vicepresidente do Senado,\n",
    "por meio de quem cumprimento todos os senadores aqui\n",
    "presentes. Quero cumprimentar os deputados aqui presentes.\n",
    "Quero cumprimentar deputados, quero cumprimentar os\n",
    "empresários aqui presentes.\"\"\"\n",
    "\n",
    "# 전처리 및 토큰화\n",
    "texto = texto.lower()\n",
    "texto = texto.translate(str.maketrans('', '', string.punctuation))\n",
    "tokens = tokenizer.tokenize(texto)\n",
    "\n",
    "# 불용어를 제거하고 남은 단어들을 리스트에 추가\n",
    "words = []\n",
    "for word in tokens:\n",
    "    if word not in stop_words:\n",
    "        words.append(word)\n",
    "\n",
    "pprint.pprint(words)\n"
   ]
  },
  {
   "cell_type": "code",
   "execution_count": null,
   "metadata": {},
   "outputs": [],
   "source": []
  }
 ],
 "metadata": {
  "kernelspec": {
   "display_name": "Python 3",
   "language": "python",
   "name": "python3"
  },
  "language_info": {
   "codemirror_mode": {
    "name": "ipython",
    "version": 3
   },
   "file_extension": ".py",
   "mimetype": "text/x-python",
   "name": "python",
   "nbconvert_exporter": "python",
   "pygments_lexer": "ipython3",
   "version": "3.7.6"
  }
 },
 "nbformat": 4,
 "nbformat_minor": 4
}
