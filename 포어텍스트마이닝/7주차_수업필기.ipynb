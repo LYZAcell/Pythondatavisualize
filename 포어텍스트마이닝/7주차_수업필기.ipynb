{
 "cells": [
  {
   "cell_type": "markdown",
   "metadata": {},
   "source": [
    "### 7주차 : 텍스트파일 생성 및 읽기&정제\n",
    "- 오늘은 정제까지만. 토크나이즈는 다음에\n",
    "- 정규표현식도 배울 것\n",
    "- 불용어(stopwords)\n",
    "- 형태소 분석\n",
    "    - if ter의 freq을 확인하고 싶다면 -> tinha, tenho, tem 등 다 처리해줘야함\n",
    "- 오늘 사용할 패키지 :nltk, re, konlpy ( 한국어 형태소 분석기), spacy (포어 형태소 분석기)\n",
    "    - konlpy는 java 설치 필요. JDK 1.7 이상과 Jpype의 설치 필요\n",
    "    \n",
    "    \n",
    "    \n",
    "- text 파일 저장 시 UTF-8 encoding을 사용하는 것이 가장 좋음"
   ]
  },
  {
   "cell_type": "code",
   "execution_count": null,
   "metadata": {},
   "outputs": [],
   "source": [
    "import nltk\n",
    "import os #pwd 확인"
   ]
  },
  {
   "cell_type": "markdown",
   "metadata": {},
   "source": [
    "- 파일을 불러오는 방법은 두가지 방법이 있다\n",
    "1. file = open('new_text.txt', 'w', encodings = 'utf-8-sig')\n",
    "\n",
    "    file.close()\n",
    "    \n",
    "        - encodings는 잘되면 사실 생략해도 무방 \n",
    "        - 닫아줘야하기도해서 좀 귀찮아서 안쓰는 추세\n",
    "        \n",
    "2. with open( 'new_text.txt', 'w', encodings = 'utf-8-sig') as file : ~~\n",
    "\n",
    "    - with open ( 파일명 ~) as 변수명:"
   ]
  },
  {
   "cell_type": "code",
   "execution_count": 1,
   "metadata": {},
   "outputs": [
    {
     "name": "stdout",
     "output_type": "stream",
     "text": [
      "<_io.TextIOWrapper name='new_text.txt' mode='r' encoding='cp949'>\n",
      "내이름은 가영, 포르투갈어데이터마이닝을 배우는 중\n"
     ]
    }
   ],
   "source": [
    "with open ('new_text.txt', 'r', encoding = 'cp949') as file:\n",
    "    print(file)\n",
    "    sen = \"내이름은 가영, 포르투갈어데이터마이닝을 배우는 중\"\n",
    "    #file.write(sen)\n",
    "    res = file.read()\n",
    "    print(res)"
   ]
  },
  {
   "cell_type": "markdown",
   "metadata": {},
   "source": [
    "#### readline과 readlines의 차이\n",
    "\n",
    "- readline() : 텍스트를 라인별로 한 줄씩 가져오며 자료 타입은 문자열임\n",
    "     - 무한 루프 구문을 이용해서 모든 줄을 가져 옴\n",
    "\n",
    "- readlines() : 텍스트를 라인별로 한 줄씩 가져오며 자료 타입은 리스트임\n",
    "     - 반복(for) 구문을 이용해서 모든 줄을 가져 옴"
   ]
  },
  {
   "cell_type": "code",
   "execution_count": 4,
   "metadata": {},
   "outputs": [
    {
     "name": "stdout",
     "output_type": "stream",
     "text": [
      "<_io.TextIOWrapper name='morning.txt' mode='r' encoding='utf-8'>\n",
      "﻿Good morning. Summer is coming up fast, and there’s no better feeling than having \n",
      "an epic vacation locked and loaded ahead of the warmer months.\n",
      "To help you avoid letting your PTO pile up like a bunch of cicadas, we put \n",
      "together Travel Brew, a special-edition Sunday newsletter that’ll update you about \n",
      "the hottest travel trends, give you outside-of-the-box destination ideas, and offer \n",
      "other tips for top-tier adventure (or relaxation).\n",
      "Bon voyage!\n",
      "\n",
      "One of the most challenging aspects of travel can be selecting a destination, which is \n",
      "only slightly more difficult than understanding why a bottle of water at the airport \n",
      "costs $8.\n",
      "All the options can be overwhelming, especially when you’re staring down \n",
      "portmanteaus that make you wonder if using your PTO is worth it (“bleisure,” \n",
      "“buddymoon,” “friendcation,” etc.). But do not light your luggage on fire out of \n",
      "frustration—we’re here to look past the cringey names and offer our favorite trends \n",
      "for your well-deserved break from the grind.\n",
      "Beat the heat with a ‘coolcation’\n",
      "With every year breaking the record for hottest ever, chilling is becoming necessary \n",
      "in a much more literal sense. The planet’s increasingly sweltering temperatures have \n",
      "increased demand for trips to places like Iceland, Finland, and Scotland.\n",
      "Get on board: UK cruise agent Iglu saw a 235% increase in demand for trips to the \n",
      "Arctic from 2022 to 2023; demand for Canada jumped 137% over the same time. \n",
      "The International Association of Antarctica Tour Operators reported a record number \n",
      "of visitors during the 2022–2023 austral summer, which runs from November to \n",
      "March.\n",
      "But…sustainability is an issue. Increased tourism (and shipping) in the Arctic can \n",
      "contribute to the climate problem that is making this poorly named trend so popular.\n",
      "Let TV and movies inspire you\n",
      "“Set-jetting” has been a popular concept dating back to the 1970s, when Star \n",
      "Wars fans flocked to Death Valley to see the backdrop for Tatooine but had the self-\n",
      "respect to…never refer to it as set-jetting.\n",
      "Cut to now: Expedia identified several popular destinations from TV and movies for \n",
      "2024. Among the locations seeing a bump in interest due to popular TV shows are \n",
      "Romania (Wednesday), Paris (Emily in Paris), and South Korea (Squid Game).\n",
      "The White Lotus Effect: The hotels featured in the popular HBO series are getting \n",
      "a major boost from the phenomenon. Availability checks for The Four Seasons on \n",
      "Maui, featured prominently in Season 1, found a rise of 386%. The Four Seasons in \n",
      "Sicily, where Jennifer Coolidge was betrayed during Season 2, also saw interest \n",
      "peak. Thailand, the site for Season 3, wanted The White Lotus bump so badly that it \n",
      "offered a $4.4 million tax credit to bring the show there (and got it).\n",
      "Consider extreme measures\n",
      "Extreme tourism, or adventure tourism, is for people with deep pockets who consider \n",
      "lounging next to a pool more boring than sitting at a desk.\n",
      "•\tThe most well-known destination for the adrenaline seeker is Mount Everest—\n",
      "last season, the Nepalese government issued a record number of permits to \n",
      "scale it.\n",
      "•\tInterested in an extreme coolcation? It costs $100,000 to make your way to \n",
      "the South Pole.\n",
      "A market like no other: Grand View Research believes the adventure tourism \n",
      "market generated $316.6 billion in 2022 and will balloon to a little more than $1 \n",
      "trillion by 2030. But if your tastes lean a little less death-defying, we’ve got you \n",
      "covered: In today’s newsletter, we’ll explore destinations you can reach by train and \n",
      "car, the newest national parks, and more.—DL\n",
      "\n",
      "\n"
     ]
    }
   ],
   "source": [
    "with open ('morning.txt','r', encoding = 'utf-8') as coffee:\n",
    "    print(coffee)\n",
    "    res = coffee.read()\n",
    "    print(res)"
   ]
  },
  {
   "cell_type": "code",
   "execution_count": 7,
   "metadata": {
    "collapsed": true,
    "jupyter": {
     "outputs_hidden": true
    }
   },
   "outputs": [
    {
     "name": "stdout",
     "output_type": "stream",
     "text": [
      "['an epic vacation locked and loaded ahead of the warmer months.\\n', 'To help you avoid letting your PTO pile up like a bunch of cicadas, we put \\n', 'together Travel Brew, a special-edition Sunday newsletter that’ll update you about \\n', 'the hottest travel trends, give you outside-of-the-box destination ideas, and offer \\n', 'other tips for top-tier adventure (or relaxation).\\n', 'Bon voyage!\\n', '\\n', 'One of the most challenging aspects of travel can be selecting a destination, which is \\n', 'only slightly more difficult than understanding why a bottle of water at the airport \\n', 'costs $8.\\n', 'All the options can be overwhelming, especially when you’re staring down \\n', 'portmanteaus that make you wonder if using your PTO is worth it (“bleisure,” \\n', '“buddymoon,” “friendcation,” etc.). But do not light your luggage on fire out of \\n', 'frustration—we’re here to look past the cringey names and offer our favorite trends \\n', 'for your well-deserved break from the grind.\\n', 'Beat the heat with a ‘coolcation’\\n', 'With every year breaking the record for hottest ever, chilling is becoming necessary \\n', 'in a much more literal sense. The planet’s increasingly sweltering temperatures have \\n', 'increased demand for trips to places like Iceland, Finland, and Scotland.\\n', 'Get on board: UK cruise agent Iglu saw a 235% increase in demand for trips to the \\n', 'Arctic from 2022 to 2023; demand for Canada jumped 137% over the same time. \\n', 'The International Association of Antarctica Tour Operators reported a record number \\n', 'of visitors during the 2022–2023 austral summer, which runs from November to \\n', 'March.\\n', 'But…sustainability is an issue. Increased tourism (and shipping) in the Arctic can \\n', 'contribute to the climate problem that is making this poorly named trend so popular.\\n', 'Let TV and movies inspire you\\n', '“Set-jetting” has been a popular concept dating back to the 1970s, when Star \\n', 'Wars fans flocked to Death Valley to see the backdrop for Tatooine but had the self-\\n', 'respect to…never refer to it as set-jetting.\\n', 'Cut to now: Expedia identified several popular destinations from TV and movies for \\n', '2024. Among the locations seeing a bump in interest due to popular TV shows are \\n', 'Romania (Wednesday), Paris (Emily in Paris), and South Korea (Squid Game).\\n', 'The White Lotus Effect: The hotels featured in the popular HBO series are getting \\n', 'a major boost from the phenomenon. Availability checks for The Four Seasons on \\n', 'Maui, featured prominently in Season 1, found a rise of 386%. The Four Seasons in \\n', 'Sicily, where Jennifer Coolidge was betrayed during Season 2, also saw interest \\n', 'peak. Thailand, the site for Season 3, wanted The White Lotus bump so badly that it \\n', 'offered a $4.4 million tax credit to bring the show there (and got it).\\n', 'Consider extreme measures\\n', 'Extreme tourism, or adventure tourism, is for people with deep pockets who consider \\n', 'lounging next to a pool more boring than sitting at a desk.\\n', '•\\tThe most well-known destination for the adrenaline seeker is Mount Everest—\\n', 'last season, the Nepalese government issued a record number of permits to \\n', 'scale it.\\n', '•\\tInterested in an extreme coolcation? It costs $100,000 to make your way to \\n', 'the South Pole.\\n', 'A market like no other: Grand View Research believes the adventure tourism \\n', 'market generated $316.6 billion in 2022 and will balloon to a little more than $1 \\n', 'trillion by 2030. But if your tastes lean a little less death-defying, we’ve got you \\n', 'covered: In today’s newsletter, we’ll explore destinations you can reach by train and \\n', 'car, the newest national parks, and more.—DL\\n', '\\n']\n"
     ]
    }
   ],
   "source": [
    "# Open the file\n",
    "with open('morning.txt', 'r', encoding = 'utf-8') as coffee:\n",
    "    for i in coffee:\n",
    "        sen = coffee.readlines()\n",
    "        print(sen)\n",
    "    "
   ]
  },
  {
   "cell_type": "code",
   "execution_count": 8,
   "metadata": {
    "collapsed": true,
    "jupyter": {
     "outputs_hidden": true
    }
   },
   "outputs": [
    {
     "name": "stdout",
     "output_type": "stream",
     "text": [
      "an epic vacation locked and loaded ahead of the warmer months.\n",
      "\n",
      "together Travel Brew, a special-edition Sunday newsletter that’ll update you about \n",
      "\n",
      "other tips for top-tier adventure (or relaxation).\n",
      "\n",
      "\n",
      "\n",
      "only slightly more difficult than understanding why a bottle of water at the airport \n",
      "\n",
      "All the options can be overwhelming, especially when you’re staring down \n",
      "\n",
      "“buddymoon,” “friendcation,” etc.). But do not light your luggage on fire out of \n",
      "\n",
      "for your well-deserved break from the grind.\n",
      "\n",
      "With every year breaking the record for hottest ever, chilling is becoming necessary \n",
      "\n",
      "increased demand for trips to places like Iceland, Finland, and Scotland.\n",
      "\n",
      "Arctic from 2022 to 2023; demand for Canada jumped 137% over the same time. \n",
      "\n",
      "of visitors during the 2022–2023 austral summer, which runs from November to \n",
      "\n",
      "But…sustainability is an issue. Increased tourism (and shipping) in the Arctic can \n",
      "\n",
      "Let TV and movies inspire you\n",
      "\n",
      "Wars fans flocked to Death Valley to see the backdrop for Tatooine but had the self-\n",
      "\n",
      "Cut to now: Expedia identified several popular destinations from TV and movies for \n",
      "\n",
      "Romania (Wednesday), Paris (Emily in Paris), and South Korea (Squid Game).\n",
      "\n",
      "a major boost from the phenomenon. Availability checks for The Four Seasons on \n",
      "\n",
      "Sicily, where Jennifer Coolidge was betrayed during Season 2, also saw interest \n",
      "\n",
      "offered a $4.4 million tax credit to bring the show there (and got it).\n",
      "\n",
      "Extreme tourism, or adventure tourism, is for people with deep pockets who consider \n",
      "\n",
      "•\tThe most well-known destination for the adrenaline seeker is Mount Everest—\n",
      "\n",
      "scale it.\n",
      "\n",
      "the South Pole.\n",
      "\n",
      "market generated $316.6 billion in 2022 and will balloon to a little more than $1 \n",
      "\n",
      "covered: In today’s newsletter, we’ll explore destinations you can reach by train and \n",
      "\n",
      "\n",
      "\n"
     ]
    }
   ],
   "source": [
    "with open('morning.txt', 'r', encoding = 'utf-8') as coffee:\n",
    "    for i in coffee:\n",
    "        sen = coffee.readline()\n",
    "        print(sen)"
   ]
  },
  {
   "cell_type": "markdown",
   "metadata": {},
   "source": [
    "#### 전처리 도우미: 정규표현식\n",
    "- 원하는대로 clean text만들어주는 데에 도움을 준다\n",
    "- 작업자의 의도대로 텍스트를 전처리 할 수 있게 해준다.\n",
    "- 메타문자 및 자주 사용하는 메타문자\n",
    "\n",
    "\n",
    "- regular Expression(Re)사용\n",
    "    - . ^ $ * + ? { } [ ] \\ | ( )가 특이케이스\n",
    "    "
   ]
  },
  {
   "cell_type": "markdown",
   "metadata": {},
   "source": [
    "- ‘[abc]’ a, b, c 중 한 개의 문자와 매치 문자열에서 a, b, c와 동일한 값을 찾아 준다\n",
    "- [0-9] 0에서 9까지의 모든 수 \\d와 같음\n",
    "- [a-zA-Z] 대소문자 포함 모든 알파베트\n",
    "    - 한국어[가-힝 ㄱ-ㅎ]\n",
    "- [\\w] (= ‘\\w’) 모든 숫자와 문자\n",
    "    - 대문자는 반대 의미임. \\W는 숫자와 문자가 아닌 것을 의미한다\n",
    "- \\s 공백문자 [\\t\\n\\r\\f\\v] 와 같음\n",
    "- ^ not: [^0-9] =[^\\d] 숫자가 아닌 것 ( \\D) 와 같음"
   ]
  },
  {
   "cell_type": "code",
   "execution_count": 9,
   "metadata": {},
   "outputs": [
    {
     "name": "stdout",
     "output_type": "stream",
     "text": [
      "['a', 'b', 'a', 'a', 'a', 'c']\n"
     ]
    }
   ],
   "source": [
    "import re\n",
    "\n",
    "# 정규표현식 패턴\n",
    "pattern = '[abc]'\n",
    "\n",
    "# 문자열\n",
    "text = 'apple banana cherry dog'\n",
    "\n",
    "# 패턴과 일치하는 부분 찾기\n",
    "matches = re.findall(pattern, text)\n",
    "\n",
    "# 결과 출력\n",
    "print(matches)  # ['a', 'a', 'b', 'a', 'a', 'c']\n"
   ]
  },
  {
   "cell_type": "code",
   "execution_count": 1,
   "metadata": {},
   "outputs": [],
   "source": [
    "text = \"Beautiful Sunday ~ Let’s play 007@!\""
   ]
  },
  {
   "cell_type": "code",
   "execution_count": 2,
   "metadata": {},
   "outputs": [
    {
     "name": "stdout",
     "output_type": "stream",
     "text": [
      "공백포함 문자 수: 35 \n"
     ]
    }
   ],
   "source": [
    "print(f'공백포함 문자 수: {len(text)} ')\n",
    "# print('공백을 포함한 text의 문자 수 : %d' %len(text))\n",
    "# print('공백을 포함한 text의 문자 수: {}'.format(len(text)))"
   ]
  },
  {
   "cell_type": "code",
   "execution_count": 3,
   "metadata": {},
   "outputs": [
    {
     "name": "stdout",
     "output_type": "stream",
     "text": [
      "BeautifulSunday~Let’splay007@!\n",
      "30\n"
     ]
    }
   ],
   "source": [
    "text_replace = text.replace(\" \", \"\")\n",
    "print(text_replace)\n",
    "print(f'{len(text_replace)}')"
   ]
  },
  {
   "cell_type": "code",
   "execution_count": 4,
   "metadata": {},
   "outputs": [
    {
     "name": "stdout",
     "output_type": "stream",
     "text": [
      "text에 포함된 단어의 수 : 2\n",
      "text에 포함된 단어의 수 : 6\n"
     ]
    }
   ],
   "source": [
    "# 대부분 라틴어 기반의 언어는 공백으로 구분되어 단순히 공백 기준으로 단어 개수 세기가 가능하다\n",
    "print(f'text에 포함된 단어의 수 : {len(text.split(\"s\"))}')\n",
    "print(f'text에 포함된 단어의 수 : {len(text.split())}')"
   ]
  },
  {
   "cell_type": "code",
   "execution_count": 17,
   "metadata": {},
   "outputs": [
    {
     "name": "stdout",
     "output_type": "stream",
     "text": [
      "Beautiful Sunday ~ Let’s play @!\n",
      "Beautiful Sunday ~ Let’s play 007!\n",
      "007\n"
     ]
    }
   ],
   "source": [
    "#숫자제거하기\n",
    "import re\n",
    "# 제거대상, 치환문자, 텍스트 순\n",
    "print(re.sub('[0-9]','', text))\n",
    "print(re.sub('[@]','',text))\n",
    "# 반대로 제거하기 ^\n",
    "print(re.sub('[^0-9]','', text))"
   ]
  },
  {
   "cell_type": "code",
   "execution_count": 25,
   "metadata": {},
   "outputs": [
    {
     "name": "stdout",
     "output_type": "stream",
     "text": [
      "Beautiful Sunday  Lets play \n"
     ]
    }
   ],
   "source": [
    "#문자가 아닌 특수문자 다 지우기(공백도 지워짐)\n",
    "print(re.sub('[^a-zA-Z ]','',text))"
   ]
  },
  {
   "cell_type": "code",
   "execution_count": 38,
   "metadata": {},
   "outputs": [
    {
     "name": "stdout",
     "output_type": "stream",
     "text": [
      "Meu nome   Gabi e estou estudando em HUFS Tenho um irm o  Gastron mia\n"
     ]
    }
   ],
   "source": [
    "por = \"Meu nome é Gabi e estou estudando em HUFS!Tenho um irmão. Gastronômia\"\n",
    "#오잉 악센트 증발 -> ascii기준이라 포어는 매칭문자로 정제해줘야한다. \n",
    "print(re.sub('[^a-zA-Z]',' ',por))"
   ]
  },
  {
   "cell_type": "code",
   "execution_count": 43,
   "metadata": {},
   "outputs": [
    {
     "name": "stdout",
     "output_type": "stream",
     "text": [
      "Meu nome é Gabi e estou estudando em HUFS Tenho um irmão  Gastronômia\n",
      "Meu nome é Gabi e estou estudando em HUFS Tenho um irmão  Gastronômia\n",
      "                                         !              .            \n",
      "                                         !              .            \n"
     ]
    }
   ],
   "source": [
    "#\\w로 사용해보기-> 다 출력되는 것 확인\n",
    "print(re.sub('[^\\w]',' ',por))\n",
    "print(re.sub('[\\W]',' ',por))\n",
    "#Word가 모두 지워지므로!와 .만 남음\n",
    "print(re.sub('[^\\W]',' ',por))\n",
    "print(re.sub('[\\w]',' ',por))"
   ]
  },
  {
   "cell_type": "code",
   "execution_count": 44,
   "metadata": {},
   "outputs": [
    {
     "data": {
      "text/plain": [
       "'Beautiful Sunday dada Let’s play dadadadadadadadadada'"
      ]
     },
     "execution_count": 44,
     "metadata": {},
     "output_type": "execute_result"
    }
   ],
   "source": [
    "# 매칭문자를 정해서 지워주는 것도 방법이다. \n",
    "por = \"Meu nome é Gabi e estou estudando em HUFS!Tenho um irmão. Gastronômia\"\n",
    "re.sub('[0-9~@!]','dada',text)"
   ]
  },
  {
   "cell_type": "markdown",
   "metadata": {},
   "source": [
    "#### 매칭문자 및 메타문자\n",
    "- r(raw string)은 [ ] 안에 매칭문자로 메타문자들이 나타날 때 이 메타문자를 일반 문자로 인식하라는 의미임\n",
    "- \\s, \\n의 경우 각각 공백과 줄바꿈이므로 인식이 안됨\n",
    "- \\,s,n을 각각 지우고 싶다면 그대로 지워줘로 따로 인식해줘야함 -> 그때 사용하는 것이 r값\n",
    "- 아니면 \\\\같은걸로 써줘야함 (홈피주소 정제시 \\\\\\\\\\이래야하는데 가독성 멸망임)"
   ]
  },
  {
   "cell_type": "code",
   "execution_count": 47,
   "metadata": {},
   "outputs": [
    {
     "name": "stdout",
     "output_type": "stream",
     "text": [
      "다음 수업은 코딩존 근무 입니다. 미네르바 컴플렉스(B1)으로 가세요!\n",
      "다음 수업은 코딩존 근무 입니다~ 미네르바 컴플렉스~~~~으로 가세요~\n"
     ]
    }
   ],
   "source": [
    "#한국어 정제\n",
    "han = \"다음 수업은 코딩존 근무 입니다. 미네르바 컴플렉스(B1)으로 가세요!\"\n",
    "print(han)\n",
    "print(re.sub('[^가-힣ㄱ-ㅎ\\s]','~',han))"
   ]
  },
  {
   "cell_type": "markdown",
   "metadata": {},
   "source": [
    "## 다음주 수업없음!\n",
    "- 그 다음주 starnize, tokenize 배울 것"
   ]
  },
  {
   "cell_type": "code",
   "execution_count": null,
   "metadata": {},
   "outputs": [],
   "source": []
  }
 ],
 "metadata": {
  "kernelspec": {
   "display_name": "Python 3",
   "language": "python",
   "name": "python3"
  },
  "language_info": {
   "codemirror_mode": {
    "name": "ipython",
    "version": 3
   },
   "file_extension": ".py",
   "mimetype": "text/x-python",
   "name": "python",
   "nbconvert_exporter": "python",
   "pygments_lexer": "ipython3",
   "version": "3.7.6"
  }
 },
 "nbformat": 4,
 "nbformat_minor": 4
}
