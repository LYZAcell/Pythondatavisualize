{
 "cells": [
  {
   "cell_type": "code",
   "execution_count": 1,
   "metadata": {},
   "outputs": [
    {
     "name": "stdout",
     "output_type": "stream",
     "text": [
      "안녕하세요\n"
     ]
    }
   ],
   "source": [
    "print(\"안녕하세요\")"
   ]
  },
  {
   "cell_type": "markdown",
   "metadata": {},
   "source": [
    "### 셀추가 및 삭제\n",
    "위치 누르고 단축키 A.로 추가(above)B는 아래 추가(Below)\n",
    "삭제는 D 두번 누르기"
   ]
  },
  {
   "cell_type": "code",
   "execution_count": 2,
   "metadata": {},
   "outputs": [
    {
     "name": "stdout",
     "output_type": "stream",
     "text": [
      "안녕하세요\n"
     ]
    }
   ],
   "source": [
    "print(\"안녕하세요\")\n",
    "#print(\"주석입니다\")/메모, 코드 점검"
   ]
  },
  {
   "cell_type": "code",
   "execution_count": null,
   "metadata": {},
   "outputs": [],
   "source": [
    "# 여러 줄 주석 처리 하는 법\n",
    "# print(\"해당 줄들을 드래그 한 후 ctrl+/\")\n",
    "# print(\"해당 줄들을 드래그 한 후 ctrl+/\")\n",
    "# print(\"해당 줄들을 드래그 한 후 ctrl+/\")\n",
    "# print(\"해당 줄들을 드래그 한 후 ctrl+/\")\n",
    "# print(\"해제도 마찬가지\")"
   ]
  },
  {
   "cell_type": "markdown",
   "metadata": {},
   "source": [
    "### 번호 추가 및 단축키\n",
    "view->show numbers 누름. 에러 시 확인 용이.\n",
    "상단 키보드를 통해 단축키 확인 가능"
   ]
  },
  {
   "cell_type": "code",
   "execution_count": null,
   "metadata": {},
   "outputs": [],
   "source": [
    "### mark down 기능"
   ]
  }
 ],
 "metadata": {
  "kernelspec": {
   "display_name": "Python 3",
   "language": "python",
   "name": "python3"
  },
  "language_info": {
   "codemirror_mode": {
    "name": "ipython",
    "version": 3
   },
   "file_extension": ".py",
   "mimetype": "text/x-python",
   "name": "python",
   "nbconvert_exporter": "python",
   "pygments_lexer": "ipython3",
   "version": "3.7.6"
  }
 },
 "nbformat": 4,
 "nbformat_minor": 4
}
